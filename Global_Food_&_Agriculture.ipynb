{
  "nbformat": 4,
  "nbformat_minor": 0,
  "metadata": {
    "colab": {
      "provenance": []
    },
    "kernelspec": {
      "name": "python3",
      "display_name": "Python 3"
    },
    "language_info": {
      "name": "python"
    }
  },
  "cells": [
    {
      "cell_type": "code",
      "execution_count": 1,
      "metadata": {
        "colab": {
          "base_uri": "https://localhost:8080/",
          "height": 91
        },
        "id": "-0JGixN0Zbbt",
        "outputId": "05e1687f-401b-4cd8-f959-14cbc5f79e8a"
      },
      "outputs": [
        {
          "output_type": "display_data",
          "data": {
            "text/plain": [
              "<IPython.core.display.HTML object>"
            ],
            "text/html": [
              "\n",
              "     <input type=\"file\" id=\"files-30862e28-e685-45b7-87fc-e9fa625879a9\" name=\"files[]\" multiple disabled\n",
              "        style=\"border:none\" />\n",
              "     <output id=\"result-30862e28-e685-45b7-87fc-e9fa625879a9\">\n",
              "      Upload widget is only available when the cell has been executed in the\n",
              "      current browser session. Please rerun this cell to enable.\n",
              "      </output>\n",
              "      <script>// Copyright 2017 Google LLC\n",
              "//\n",
              "// Licensed under the Apache License, Version 2.0 (the \"License\");\n",
              "// you may not use this file except in compliance with the License.\n",
              "// You may obtain a copy of the License at\n",
              "//\n",
              "//      http://www.apache.org/licenses/LICENSE-2.0\n",
              "//\n",
              "// Unless required by applicable law or agreed to in writing, software\n",
              "// distributed under the License is distributed on an \"AS IS\" BASIS,\n",
              "// WITHOUT WARRANTIES OR CONDITIONS OF ANY KIND, either express or implied.\n",
              "// See the License for the specific language governing permissions and\n",
              "// limitations under the License.\n",
              "\n",
              "/**\n",
              " * @fileoverview Helpers for google.colab Python module.\n",
              " */\n",
              "(function(scope) {\n",
              "function span(text, styleAttributes = {}) {\n",
              "  const element = document.createElement('span');\n",
              "  element.textContent = text;\n",
              "  for (const key of Object.keys(styleAttributes)) {\n",
              "    element.style[key] = styleAttributes[key];\n",
              "  }\n",
              "  return element;\n",
              "}\n",
              "\n",
              "// Max number of bytes which will be uploaded at a time.\n",
              "const MAX_PAYLOAD_SIZE = 100 * 1024;\n",
              "\n",
              "function _uploadFiles(inputId, outputId) {\n",
              "  const steps = uploadFilesStep(inputId, outputId);\n",
              "  const outputElement = document.getElementById(outputId);\n",
              "  // Cache steps on the outputElement to make it available for the next call\n",
              "  // to uploadFilesContinue from Python.\n",
              "  outputElement.steps = steps;\n",
              "\n",
              "  return _uploadFilesContinue(outputId);\n",
              "}\n",
              "\n",
              "// This is roughly an async generator (not supported in the browser yet),\n",
              "// where there are multiple asynchronous steps and the Python side is going\n",
              "// to poll for completion of each step.\n",
              "// This uses a Promise to block the python side on completion of each step,\n",
              "// then passes the result of the previous step as the input to the next step.\n",
              "function _uploadFilesContinue(outputId) {\n",
              "  const outputElement = document.getElementById(outputId);\n",
              "  const steps = outputElement.steps;\n",
              "\n",
              "  const next = steps.next(outputElement.lastPromiseValue);\n",
              "  return Promise.resolve(next.value.promise).then((value) => {\n",
              "    // Cache the last promise value to make it available to the next\n",
              "    // step of the generator.\n",
              "    outputElement.lastPromiseValue = value;\n",
              "    return next.value.response;\n",
              "  });\n",
              "}\n",
              "\n",
              "/**\n",
              " * Generator function which is called between each async step of the upload\n",
              " * process.\n",
              " * @param {string} inputId Element ID of the input file picker element.\n",
              " * @param {string} outputId Element ID of the output display.\n",
              " * @return {!Iterable<!Object>} Iterable of next steps.\n",
              " */\n",
              "function* uploadFilesStep(inputId, outputId) {\n",
              "  const inputElement = document.getElementById(inputId);\n",
              "  inputElement.disabled = false;\n",
              "\n",
              "  const outputElement = document.getElementById(outputId);\n",
              "  outputElement.innerHTML = '';\n",
              "\n",
              "  const pickedPromise = new Promise((resolve) => {\n",
              "    inputElement.addEventListener('change', (e) => {\n",
              "      resolve(e.target.files);\n",
              "    });\n",
              "  });\n",
              "\n",
              "  const cancel = document.createElement('button');\n",
              "  inputElement.parentElement.appendChild(cancel);\n",
              "  cancel.textContent = 'Cancel upload';\n",
              "  const cancelPromise = new Promise((resolve) => {\n",
              "    cancel.onclick = () => {\n",
              "      resolve(null);\n",
              "    };\n",
              "  });\n",
              "\n",
              "  // Wait for the user to pick the files.\n",
              "  const files = yield {\n",
              "    promise: Promise.race([pickedPromise, cancelPromise]),\n",
              "    response: {\n",
              "      action: 'starting',\n",
              "    }\n",
              "  };\n",
              "\n",
              "  cancel.remove();\n",
              "\n",
              "  // Disable the input element since further picks are not allowed.\n",
              "  inputElement.disabled = true;\n",
              "\n",
              "  if (!files) {\n",
              "    return {\n",
              "      response: {\n",
              "        action: 'complete',\n",
              "      }\n",
              "    };\n",
              "  }\n",
              "\n",
              "  for (const file of files) {\n",
              "    const li = document.createElement('li');\n",
              "    li.append(span(file.name, {fontWeight: 'bold'}));\n",
              "    li.append(span(\n",
              "        `(${file.type || 'n/a'}) - ${file.size} bytes, ` +\n",
              "        `last modified: ${\n",
              "            file.lastModifiedDate ? file.lastModifiedDate.toLocaleDateString() :\n",
              "                                    'n/a'} - `));\n",
              "    const percent = span('0% done');\n",
              "    li.appendChild(percent);\n",
              "\n",
              "    outputElement.appendChild(li);\n",
              "\n",
              "    const fileDataPromise = new Promise((resolve) => {\n",
              "      const reader = new FileReader();\n",
              "      reader.onload = (e) => {\n",
              "        resolve(e.target.result);\n",
              "      };\n",
              "      reader.readAsArrayBuffer(file);\n",
              "    });\n",
              "    // Wait for the data to be ready.\n",
              "    let fileData = yield {\n",
              "      promise: fileDataPromise,\n",
              "      response: {\n",
              "        action: 'continue',\n",
              "      }\n",
              "    };\n",
              "\n",
              "    // Use a chunked sending to avoid message size limits. See b/62115660.\n",
              "    let position = 0;\n",
              "    do {\n",
              "      const length = Math.min(fileData.byteLength - position, MAX_PAYLOAD_SIZE);\n",
              "      const chunk = new Uint8Array(fileData, position, length);\n",
              "      position += length;\n",
              "\n",
              "      const base64 = btoa(String.fromCharCode.apply(null, chunk));\n",
              "      yield {\n",
              "        response: {\n",
              "          action: 'append',\n",
              "          file: file.name,\n",
              "          data: base64,\n",
              "        },\n",
              "      };\n",
              "\n",
              "      let percentDone = fileData.byteLength === 0 ?\n",
              "          100 :\n",
              "          Math.round((position / fileData.byteLength) * 100);\n",
              "      percent.textContent = `${percentDone}% done`;\n",
              "\n",
              "    } while (position < fileData.byteLength);\n",
              "  }\n",
              "\n",
              "  // All done.\n",
              "  yield {\n",
              "    response: {\n",
              "      action: 'complete',\n",
              "    }\n",
              "  };\n",
              "}\n",
              "\n",
              "scope.google = scope.google || {};\n",
              "scope.google.colab = scope.google.colab || {};\n",
              "scope.google.colab._files = {\n",
              "  _uploadFiles,\n",
              "  _uploadFilesContinue,\n",
              "};\n",
              "})(self);\n",
              "</script> "
            ]
          },
          "metadata": {}
        },
        {
          "output_type": "stream",
          "name": "stdout",
          "text": [
            "Saving kaggle.json to kaggle.json\n"
          ]
        },
        {
          "output_type": "execute_result",
          "data": {
            "text/plain": [
              "{'kaggle.json': b'{\"username\":\"zemelak\",\"key\":\"08c8054de361c9898298da09f2007bec\"}'}"
            ]
          },
          "metadata": {},
          "execution_count": 1
        }
      ],
      "source": [
        "# Import the dataset from Kaggle\n",
        "# Run this cell and select the kaggle.json file downloaded\n",
        "# from the Kaggle account settings page.\n",
        "from google.colab import files\n",
        "files.upload() # here the downloded kaggle.json file is imported"
      ]
    },
    {
      "cell_type": "code",
      "source": [
        "# Let's make sure the kaggle.json file is present.\n",
        "!ls -lha kaggle.json\n"
      ],
      "metadata": {
        "colab": {
          "base_uri": "https://localhost:8080/"
        },
        "id": "TA_cu6P-ZmnZ",
        "outputId": "89796ad3-fc8a-4b51-84b2-3ea7081a7a6e"
      },
      "execution_count": 2,
      "outputs": [
        {
          "output_type": "stream",
          "name": "stdout",
          "text": [
            "-rw-r--r-- 1 root root 63 Aug  8 23:12 kaggle.json\n"
          ]
        }
      ]
    },
    {
      "cell_type": "code",
      "source": [
        "# Next, install the Kaggle API client.\n",
        "!pip install -q kaggle\n"
      ],
      "metadata": {
        "id": "Nfi3WpxoZn85"
      },
      "execution_count": 3,
      "outputs": []
    },
    {
      "cell_type": "code",
      "source": [
        "# The Kaggle API client expects this file to be in ~/.kaggle,\n",
        "# so move it there.\n",
        "!mkdir -p ~/.kaggle\n",
        "!cp kaggle.json ~/.kaggle/\n",
        "\n",
        "# This permissions change avoids a warning on Kaggle tool startup.\n",
        "!chmod 600 ~/.kaggle/kaggle.json\n"
      ],
      "metadata": {
        "id": "lvpFv0L9Zqao"
      },
      "execution_count": 4,
      "outputs": []
    },
    {
      "cell_type": "code",
      "source": [
        "# List a given datasets\n",
        "# 'kaggle datasets download -d unitednations/global-food-agriculture-statistics' this is the specific database I want to download from kaggle. N.B it may have multiple datasets. check\n",
        "\n",
        "!kaggle datasets download -d unitednations/global-food-agriculture-statistics\n"
      ],
      "metadata": {
        "colab": {
          "base_uri": "https://localhost:8080/"
        },
        "id": "yI8iHIVdah2E",
        "outputId": "6c9342dc-6e03-45a9-d460-1578071920c3"
      },
      "execution_count": 14,
      "outputs": [
        {
          "output_type": "stream",
          "name": "stdout",
          "text": [
            "global-food-agriculture-statistics.zip: Skipping, found more recently modified local copy (use --force to force download)\n"
          ]
        }
      ]
    },
    {
      "cell_type": "code",
      "source": [
        "import pandas as pd\n",
        "from zipfile import ZipFile\n",
        "\n",
        "# Specify the CSV file to read from the ZIP archive\n",
        "csv_file_to_read = 'current_FAO/raw_files/CommodityBalances_LivestockFish_E_All_Data_(Normalized).csv'\n",
        "\n",
        "# Read the ZIP archive\n",
        "with ZipFile(\"/content/global-food-agriculture-statistics.zip\", 'r') as zip_file:\n",
        "    # List the files within the ZIP archive (to double-check paths)\n",
        "    print(zip_file.namelist())\n",
        "\n",
        "    # Read the CSV file from the ZIP archive with the specified encoding and delimiter\n",
        "    with zip_file.open(csv_file_to_read) as csv_file:\n",
        "        df = pd.read_csv(csv_file, encoding='ISO-8859-1', sep=',', quotechar='\"')\n",
        "\n",
        "# Display first 5 rows\n",
        "print(df.head())\n"
      ],
      "metadata": {
        "colab": {
          "base_uri": "https://localhost:8080/"
        },
        "id": "1O3qDV89e8AV",
        "outputId": "69adb9e4-86b9-40d6-bb20-ed45bc37818a"
      },
      "execution_count": 27,
      "outputs": [
        {
          "output_type": "stream",
          "name": "stdout",
          "text": [
            "['current_FAO/__MACOSX/raw_files/._ASTI_Research_Spending_E_All_Data_(Norm).csv', 'current_FAO/__MACOSX/raw_files/._ASTI_Researchers_E_All_Data_(Norm).csv', 'current_FAO/__MACOSX/raw_files/._CommodityBalances_Crops_E_All_Data_(Normalized).csv', 'current_FAO/__MACOSX/raw_files/._CommodityBalances_LivestockFish_E_All_Data_(Normalized).csv', 'current_FAO/__MACOSX/raw_files/._ConsumerPriceIndices_E_All_Data_(Normalized).csv', 'current_FAO/__MACOSX/raw_files/._Deflators_E_All_Data_(Normalized).csv', 'current_FAO/__MACOSX/raw_files/._Emissions_Agriculture_Agriculture_total_E_All_Data_(Norm).csv', 'current_FAO/__MACOSX/raw_files/._Emissions_Agriculture_Burning_Savanna_E_All_Data_(Norm).csv', 'current_FAO/__MACOSX/raw_files/._Emissions_Agriculture_Burning_crop_residues_E_All_Data_(Norm).csv', 'current_FAO/__MACOSX/raw_files/._Emissions_Agriculture_Crop_Residues_E_All_Data_(Norm).csv', 'current_FAO/__MACOSX/raw_files/._Emissions_Agriculture_Cultivated_Organic_Soils_E_All_Data_(Norm).csv', 'current_FAO/__MACOSX/raw_files/._Emissions_Agriculture_Energy_E_All_Data_(Norm).csv', 'current_FAO/__MACOSX/raw_files/._Emissions_Agriculture_Enteric_Fermentation_E_All_Data_(Norm).csv', 'current_FAO/__MACOSX/raw_files/._Emissions_Agriculture_Manure_Management_E_All_Data_(Norm).csv', 'current_FAO/__MACOSX/raw_files/._Emissions_Agriculture_Manure_applied_to_soils_E_All_Data_(Norm).csv', 'current_FAO/__MACOSX/raw_files/._Emissions_Agriculture_Manure_left_on_pasture_E_All_Data_(Norm).csv', 'current_FAO/__MACOSX/raw_files/._Emissions_Agriculture_Rice_Cultivation_E_All_Data_(Norm).csv', 'current_FAO/__MACOSX/raw_files/._Emissions_Agriculture_Synthetic_Fertilizers_E_All_Data_(Norm).csv', 'current_FAO/__MACOSX/raw_files/._Emissions_Land_Use_Burning_Biomass_E_All_Data_(Norm).csv', 'current_FAO/__MACOSX/raw_files/._Emissions_Land_Use_Cropland_E_All_Data_(Norm).csv', 'current_FAO/__MACOSX/raw_files/._Emissions_Land_Use_Forest_Land_E_All_Data_(Norm).csv', 'current_FAO/__MACOSX/raw_files/._Emissions_Land_Use_Grassland_E_All_Data_(Norm).csv', 'current_FAO/__MACOSX/raw_files/._Emissions_Land_Use_Land_Use_Total_E_All_Data_(Norm).csv', 'current_FAO/__MACOSX/raw_files/._Employment_Indicators_E_All_Data_(Norm).csv', 'current_FAO/__MACOSX/raw_files/._Environment_AirClimateChange_E_All_Data.csv', 'current_FAO/__MACOSX/raw_files/._Environment_Emissions_by_Sector_E_All_Data_(Normalized).csv', 'current_FAO/__MACOSX/raw_files/._Environment_Emissions_intensities_E_All_Data_(Normalized).csv', 'current_FAO/__MACOSX/raw_files/._Environment_Energy_E_All_Data.csv', 'current_FAO/__MACOSX/raw_files/._Environment_Fertilizers_E_All_Data_(Normalized).csv', 'current_FAO/__MACOSX/raw_files/._Environment_LandCover_E_All_Data_(Normalized).csv', 'current_FAO/__MACOSX/raw_files/._Environment_LandUse_E_All_Data_(Normalized).csv', 'current_FAO/__MACOSX/raw_files/._Environment_LivestockPatterns_E_All_Data_(Normalized).csv', 'current_FAO/__MACOSX/raw_files/._Environment_Livestock_E_All_Data.csv', 'current_FAO/__MACOSX/raw_files/._Environment_Pesticides_E_All_Data_(Normalized).csv', 'current_FAO/__MACOSX/raw_files/._Environment_Soil_E_All_Data.csv', 'current_FAO/__MACOSX/raw_files/._Environment_Temperature_change_E_All_Data_(Normalized).csv', 'current_FAO/__MACOSX/raw_files/._Environment_Water_E_All_Data.csv', 'current_FAO/__MACOSX/raw_files/._Exchange_rate_E_All_Data_(Normalized).csv', 'current_FAO/__MACOSX/raw_files/._FoodSupply_Crops_E_All_Data_(Normalized).csv', 'current_FAO/__MACOSX/raw_files/._FoodSupply_LivestockFish_E_All_Data_(Normalized).csv', 'current_FAO/__MACOSX/raw_files/._Food_Aid_Shipments_WFP_E_All_Data_(Normalized).csv', 'current_FAO/__MACOSX/raw_files/._Food_Security_Data_E_All_Data_(Normalized).csv', 'current_FAO/__MACOSX/raw_files/._Forestry_E_All_Data_(Normalized).csv', 'current_FAO/__MACOSX/raw_files/._Forestry_Trade_Flows_E_All_Data_(Normalized).csv', 'current_FAO/__MACOSX/raw_files/._Indicators_from_Household_Surveys_E_All_Data_(Normalized).csv', 'current_FAO/__MACOSX/raw_files/._Inputs_FertilizersTradeValues_E_All_Data_(Norm).csv', 'current_FAO/__MACOSX/raw_files/._Inputs_Fertilizers_E_All_Data_(Normalized).csv', 'current_FAO/__MACOSX/raw_files/._Inputs_Land_E_All_Data_(Normalized).csv', 'current_FAO/__MACOSX/raw_files/._Inputs_Pesticides_Trade_E_All_Data_(Norm).csv', 'current_FAO/__MACOSX/raw_files/._Inputs_Pesticides_Use_E_All_Data_(Normalized).csv', 'current_FAO/__MACOSX/raw_files/._Investment_CapitalStock_E_All_Data_(Normalized).csv', 'current_FAO/__MACOSX/raw_files/._Investment_CountryInvestmentStatisticsProfile__E_All_Data_(Normalized).csv', 'current_FAO/__MACOSX/raw_files/._Investment_CreditAgriculture_E_All_Data_(Normalized).csv', 'current_FAO/__MACOSX/raw_files/._Investment_ForeignDirectInvestment_E_All_Data_(Normalized).csv', 'current_FAO/__MACOSX/raw_files/._Investment_GovernmentExpenditure_E_All_Data_(Normalized).csv', 'current_FAO/__MACOSX/raw_files/._Investment_MachineryArchive_E_All_Data.csv', 'current_FAO/__MACOSX/raw_files/._Investment_Machinery_E_All_Data.csv', 'current_FAO/__MACOSX/raw_files/._Macro-Statistics_Key_Indicators_E_All_Data_(Normalized).csv', 'current_FAO/__MACOSX/raw_files/._Population_E_All_Data_(Norm).csv', 'current_FAO/__MACOSX/raw_files/._Population_E_All_Data_(Normalized).csv', 'current_FAO/__MACOSX/raw_files/._Price_Indices_E_All_Data_(Normalized).csv', 'current_FAO/__MACOSX/raw_files/._PricesArchive_E_All_Data.csv', 'current_FAO/__MACOSX/raw_files/._Prices_E_All_Data_(Normalized).csv', 'current_FAO/__MACOSX/raw_files/._Prices_Monthly_E_All_Data_(Normalized).csv', 'current_FAO/__MACOSX/raw_files/._Production_CropsProcessed_E_All_Data_(Normalized).csv', 'current_FAO/__MACOSX/raw_files/._Production_Crops_E_All_Data_(Normalized).csv', 'current_FAO/__MACOSX/raw_files/._Production_Indices_E_All_Data_(Normalized).csv', 'current_FAO/__MACOSX/raw_files/._Production_LivestockPrimary_E_All_Data_(Normalized).csv', 'current_FAO/__MACOSX/raw_files/._Production_LivestockProcessed_E_All_Data_(Normalized).csv', 'current_FAO/__MACOSX/raw_files/._Production_Livestock_E_All_Data_(Normalized).csv', 'current_FAO/__MACOSX/raw_files/._Resources_FertilizersArchive_E_All_Data.csv', 'current_FAO/__MACOSX/raw_files/._Trade_Crops_Livestock_E_All_Data_(Normalized).csv', 'current_FAO/__MACOSX/raw_files/._Trade_Indices_E_All_Data_(Norm).csv', 'current_FAO/__MACOSX/raw_files/._Trade_LiveAnimals_E_All_Data_(Normalized).csv', 'current_FAO/__MACOSX/raw_files/._Value_of_Production_E_All_Data_(Normalized).csv', 'current_FAO/raw_files/ASTI_Research_Spending_E_All_Data_(Norm).csv', 'current_FAO/raw_files/ASTI_Researchers_E_All_Data_(Norm).csv', 'current_FAO/raw_files/CommodityBalances_Crops_E_All_Data_(Normalized).csv', 'current_FAO/raw_files/CommodityBalances_LivestockFish_E_All_Data_(Normalized).csv', 'current_FAO/raw_files/ConsumerPriceIndices_E_All_Data_(Normalized).csv', 'current_FAO/raw_files/Deflators_E_All_Data_(Normalized).csv', 'current_FAO/raw_files/Emissions_Agriculture_Agriculture_total_E_All_Data_(Norm).csv', 'current_FAO/raw_files/Emissions_Agriculture_Burning_Savanna_E_All_Data_(Norm).csv', 'current_FAO/raw_files/Emissions_Agriculture_Burning_crop_residues_E_All_Data_(Norm).csv', 'current_FAO/raw_files/Emissions_Agriculture_Crop_Residues_E_All_Data_(Norm).csv', 'current_FAO/raw_files/Emissions_Agriculture_Cultivated_Organic_Soils_E_All_Data_(Norm).csv', 'current_FAO/raw_files/Emissions_Agriculture_Energy_E_All_Data_(Norm).csv', 'current_FAO/raw_files/Emissions_Agriculture_Enteric_Fermentation_E_All_Data_(Norm).csv', 'current_FAO/raw_files/Emissions_Agriculture_Manure_Management_E_All_Data_(Norm).csv', 'current_FAO/raw_files/Emissions_Agriculture_Manure_applied_to_soils_E_All_Data_(Norm).csv', 'current_FAO/raw_files/Emissions_Agriculture_Manure_left_on_pasture_E_All_Data_(Norm).csv', 'current_FAO/raw_files/Emissions_Agriculture_Rice_Cultivation_E_All_Data_(Norm).csv', 'current_FAO/raw_files/Emissions_Agriculture_Synthetic_Fertilizers_E_All_Data_(Norm).csv', 'current_FAO/raw_files/Emissions_Land_Use_Burning_Biomass_E_All_Data_(Norm).csv', 'current_FAO/raw_files/Emissions_Land_Use_Cropland_E_All_Data_(Norm).csv', 'current_FAO/raw_files/Emissions_Land_Use_Forest_Land_E_All_Data_(Norm).csv', 'current_FAO/raw_files/Emissions_Land_Use_Grassland_E_All_Data_(Norm).csv', 'current_FAO/raw_files/Emissions_Land_Use_Land_Use_Total_E_All_Data_(Norm).csv', 'current_FAO/raw_files/Employment_Indicators_E_All_Data_(Norm).csv', 'current_FAO/raw_files/Environment_AirClimateChange_E_All_Data.csv', 'current_FAO/raw_files/Environment_Emissions_by_Sector_E_All_Data_(Normalized).csv', 'current_FAO/raw_files/Environment_Emissions_intensities_E_All_Data_(Normalized).csv', 'current_FAO/raw_files/Environment_Energy_E_All_Data.csv', 'current_FAO/raw_files/Environment_Fertilizers_E_All_Data_(Normalized).csv', 'current_FAO/raw_files/Environment_LandCover_E_All_Data_(Normalized).csv', 'current_FAO/raw_files/Environment_LandUse_E_All_Data_(Normalized).csv', 'current_FAO/raw_files/Environment_LivestockPatterns_E_All_Data_(Normalized).csv', 'current_FAO/raw_files/Environment_Livestock_E_All_Data.csv', 'current_FAO/raw_files/Environment_Pesticides_E_All_Data_(Normalized).csv', 'current_FAO/raw_files/Environment_Soil_E_All_Data.csv', 'current_FAO/raw_files/Environment_Temperature_change_E_All_Data_(Normalized).csv', 'current_FAO/raw_files/Environment_Water_E_All_Data.csv', 'current_FAO/raw_files/Exchange_rate_E_All_Data_(Normalized).csv', 'current_FAO/raw_files/FoodSupply_Crops_E_All_Data_(Normalized).csv', 'current_FAO/raw_files/FoodSupply_LivestockFish_E_All_Data_(Normalized).csv', 'current_FAO/raw_files/Food_Aid_Shipments_WFP_E_All_Data_(Normalized).csv', 'current_FAO/raw_files/Food_Security_Data_E_All_Data_(Normalized).csv', 'current_FAO/raw_files/Forestry_E_All_Data_(Normalized).csv', 'current_FAO/raw_files/Forestry_Trade_Flows_E_All_Data_(Normalized).csv', 'current_FAO/raw_files/Indicators_from_Household_Surveys_E_All_Data_(Normalized).csv', 'current_FAO/raw_files/Inputs_FertilizersTradeValues_E_All_Data_(Norm).csv', 'current_FAO/raw_files/Inputs_Fertilizers_E_All_Data_(Normalized).csv', 'current_FAO/raw_files/Inputs_Land_E_All_Data_(Normalized).csv', 'current_FAO/raw_files/Inputs_Pesticides_Trade_E_All_Data_(Norm).csv', 'current_FAO/raw_files/Inputs_Pesticides_Use_E_All_Data_(Normalized).csv', 'current_FAO/raw_files/Investment_CapitalStock_E_All_Data_(Normalized).csv', 'current_FAO/raw_files/Investment_CountryInvestmentStatisticsProfile__E_All_Data_(Normalized).csv', 'current_FAO/raw_files/Investment_CreditAgriculture_E_All_Data_(Normalized).csv', 'current_FAO/raw_files/Investment_ForeignDirectInvestment_E_All_Data_(Normalized).csv', 'current_FAO/raw_files/Investment_GovernmentExpenditure_E_All_Data_(Normalized).csv', 'current_FAO/raw_files/Investment_MachineryArchive_E_All_Data.csv', 'current_FAO/raw_files/Investment_Machinery_E_All_Data.csv', 'current_FAO/raw_files/Macro-Statistics_Key_Indicators_E_All_Data_(Normalized).csv', 'current_FAO/raw_files/Population_E_All_Data_(Norm).csv', 'current_FAO/raw_files/Population_E_All_Data_(Normalized).csv', 'current_FAO/raw_files/Price_Indices_E_All_Data_(Normalized).csv', 'current_FAO/raw_files/PricesArchive_E_All_Data.csv', 'current_FAO/raw_files/Prices_E_All_Data_(Normalized).csv', 'current_FAO/raw_files/Prices_Monthly_E_All_Data_(Normalized).csv', 'current_FAO/raw_files/Production_CropsProcessed_E_All_Data_(Normalized).csv', 'current_FAO/raw_files/Production_Crops_E_All_Data_(Normalized).csv', 'current_FAO/raw_files/Production_Indices_E_All_Data_(Normalized).csv', 'current_FAO/raw_files/Production_LivestockPrimary_E_All_Data_(Normalized).csv', 'current_FAO/raw_files/Production_LivestockProcessed_E_All_Data_(Normalized).csv', 'current_FAO/raw_files/Production_Livestock_E_All_Data_(Normalized).csv', 'current_FAO/raw_files/Resources_FertilizersArchive_E_All_Data.csv', 'current_FAO/raw_files/Trade_Crops_Livestock_E_All_Data_(Normalized).csv', 'current_FAO/raw_files/Trade_Indices_E_All_Data_(Norm).csv', 'current_FAO/raw_files/Trade_LiveAnimals_E_All_Data_(Normalized).csv', 'current_FAO/raw_files/Value_of_Production_E_All_Data_(Normalized).csv', 'fao_data_crops_data.csv', 'fao_data_fertilizers_data.csv', 'fao_data_forest_data.csv', 'fao_data_land_data.csv', 'fao_data_production_indices_data.csv']\n",
            "   Area Code         Area  Item Code         Item  Element Code     Element  \\\n",
            "0          2  Afghanistan       2731  Bovine Meat          5510  Production   \n",
            "1          2  Afghanistan       2731  Bovine Meat          5510  Production   \n",
            "2          2  Afghanistan       2731  Bovine Meat          5510  Production   \n",
            "3          2  Afghanistan       2731  Bovine Meat          5510  Production   \n",
            "4          2  Afghanistan       2731  Bovine Meat          5510  Production   \n",
            "\n",
            "   Year Code  Year    Unit    Value Flag  \n",
            "0       1961  1961  tonnes  43000.0    S  \n",
            "1       1962  1962  tonnes  45800.0    S  \n",
            "2       1963  1963  tonnes  47250.0    S  \n",
            "3       1964  1964  tonnes  48000.0    S  \n",
            "4       1965  1965  tonnes  48700.0    S  \n"
          ]
        }
      ]
    },
    {
      "cell_type": "code",
      "source": [
        "df.info()\n"
      ],
      "metadata": {
        "colab": {
          "base_uri": "https://localhost:8080/"
        },
        "id": "Gpjl_D3dfMvD",
        "outputId": "ad8aee9d-5e4a-4ea0-fbc5-6757e388e54d"
      },
      "execution_count": 28,
      "outputs": [
        {
          "output_type": "stream",
          "name": "stdout",
          "text": [
            "<class 'pandas.core.frame.DataFrame'>\n",
            "RangeIndex: 2459791 entries, 0 to 2459790\n",
            "Data columns (total 11 columns):\n",
            " #   Column        Dtype  \n",
            "---  ------        -----  \n",
            " 0   Area Code     int64  \n",
            " 1   Area          object \n",
            " 2   Item Code     int64  \n",
            " 3   Item          object \n",
            " 4   Element Code  int64  \n",
            " 5   Element       object \n",
            " 6   Year Code     int64  \n",
            " 7   Year          int64  \n",
            " 8   Unit          object \n",
            " 9   Value         float64\n",
            " 10  Flag          object \n",
            "dtypes: float64(1), int64(5), object(5)\n",
            "memory usage: 206.4+ MB\n"
          ]
        }
      ]
    },
    {
      "cell_type": "code",
      "source": [
        "df.columns"
      ],
      "metadata": {
        "colab": {
          "base_uri": "https://localhost:8080/"
        },
        "id": "MOb-4qBAf-AA",
        "outputId": "e1d1e52c-0547-489a-bd05-1a7a32289067"
      },
      "execution_count": 29,
      "outputs": [
        {
          "output_type": "execute_result",
          "data": {
            "text/plain": [
              "Index(['Area Code', 'Area', 'Item Code', 'Item', 'Element Code', 'Element',\n",
              "       'Year Code', 'Year', 'Unit', 'Value', 'Flag'],\n",
              "      dtype='object')"
            ]
          },
          "metadata": {},
          "execution_count": 29
        }
      ]
    },
    {
      "cell_type": "code",
      "source": [
        "df.shape"
      ],
      "metadata": {
        "colab": {
          "base_uri": "https://localhost:8080/"
        },
        "id": "uYMdNkkfgEGw",
        "outputId": "7e33870b-64aa-477a-d346-1556ef658a8f"
      },
      "execution_count": 30,
      "outputs": [
        {
          "output_type": "execute_result",
          "data": {
            "text/plain": [
              "(2459791, 11)"
            ]
          },
          "metadata": {},
          "execution_count": 30
        }
      ]
    },
    {
      "cell_type": "code",
      "source": [
        "!git clone 'https://github.com/zemelaksg/healthcare.git'"
      ],
      "metadata": {
        "colab": {
          "base_uri": "https://localhost:8080/"
        },
        "id": "7rYsbUkdkBTM",
        "outputId": "bce151c6-e2c3-4b95-ad3a-b8e282cc429f"
      },
      "execution_count": 35,
      "outputs": [
        {
          "output_type": "stream",
          "name": "stdout",
          "text": [
            "Cloning into 'healthcare'...\n",
            "warning: You appear to have cloned an empty repository.\n"
          ]
        }
      ]
    }
  ]
}