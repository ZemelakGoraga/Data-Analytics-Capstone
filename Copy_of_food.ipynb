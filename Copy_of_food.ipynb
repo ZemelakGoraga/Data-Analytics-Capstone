{
  "nbformat": 4,
  "nbformat_minor": 0,
  "metadata": {
    "colab": {
      "provenance": [],
      "authorship_tag": "ABX9TyMVl/pFhiD1/YFO+EskbPXH",
      "include_colab_link": true
    },
    "kernelspec": {
      "name": "python3",
      "display_name": "Python 3"
    },
    "language_info": {
      "name": "python"
    }
  },
  "cells": [
    {
      "cell_type": "markdown",
      "metadata": {
        "id": "view-in-github",
        "colab_type": "text"
      },
      "source": [
        "<a href=\"https://colab.research.google.com/github/ZemelakGoraga/Data-Analytics-Capstone/blob/main/Copy_of_food.ipynb\" target=\"_parent\"><img src=\"https://colab.research.google.com/assets/colab-badge.svg\" alt=\"Open In Colab\"/></a>"
      ]
    },
    {
      "cell_type": "code",
      "source": [
        "# Project Topic: \"Global Food Production Trends and Insights"
      ],
      "metadata": {
        "id": "WKDlFGcr8-Hy"
      },
      "execution_count": null,
      "outputs": []
    },
    {
      "cell_type": "markdown",
      "source": [
        "**Description:**\n",
        "This data analytics project aims to explore and analyze the FAOSTAT dataset, which encompasses a vast collection of time-series and cross-sectional data related to food and agriculture. The project will focus on understanding global food production trends by examining the production quantities of various food items across different countries and years. By leveraging this comprehensive dataset, the analysis will uncover patterns, variations, and potential factors influencing food production on a global scale. The insights gained from this analysis will contribute to informed decision-making in areas such as food security, sustainable agricultural practices, and policy formulation. Through data-driven exploration, this project seeks to shed light on the dynamics of food production and consumption, highlighting opportunities for targeted interventions and informed strategies to address challenges in the food and agriculture sector"
      ],
      "metadata": {
        "id": "CvcNgToA9zPl"
      }
    },
    {
      "cell_type": "markdown",
      "source": [],
      "metadata": {
        "id": "oncbX8Jl985p"
      }
    },
    {
      "cell_type": "code",
      "execution_count": null,
      "metadata": {
        "colab": {
          "base_uri": "https://localhost:8080/",
          "height": 92
        },
        "id": "HRMKAWbfy2G2",
        "outputId": "ba2bbbf8-6b12-435f-b9f9-5ba155e0ff87"
      },
      "outputs": [
        {
          "output_type": "display_data",
          "data": {
            "text/plain": [
              "<IPython.core.display.HTML object>"
            ],
            "text/html": [
              "\n",
              "     <input type=\"file\" id=\"files-ddc1298d-91b4-4be7-b00a-4e9cde2a379c\" name=\"files[]\" multiple disabled\n",
              "        style=\"border:none\" />\n",
              "     <output id=\"result-ddc1298d-91b4-4be7-b00a-4e9cde2a379c\">\n",
              "      Upload widget is only available when the cell has been executed in the\n",
              "      current browser session. Please rerun this cell to enable.\n",
              "      </output>\n",
              "      <script>// Copyright 2017 Google LLC\n",
              "//\n",
              "// Licensed under the Apache License, Version 2.0 (the \"License\");\n",
              "// you may not use this file except in compliance with the License.\n",
              "// You may obtain a copy of the License at\n",
              "//\n",
              "//      http://www.apache.org/licenses/LICENSE-2.0\n",
              "//\n",
              "// Unless required by applicable law or agreed to in writing, software\n",
              "// distributed under the License is distributed on an \"AS IS\" BASIS,\n",
              "// WITHOUT WARRANTIES OR CONDITIONS OF ANY KIND, either express or implied.\n",
              "// See the License for the specific language governing permissions and\n",
              "// limitations under the License.\n",
              "\n",
              "/**\n",
              " * @fileoverview Helpers for google.colab Python module.\n",
              " */\n",
              "(function(scope) {\n",
              "function span(text, styleAttributes = {}) {\n",
              "  const element = document.createElement('span');\n",
              "  element.textContent = text;\n",
              "  for (const key of Object.keys(styleAttributes)) {\n",
              "    element.style[key] = styleAttributes[key];\n",
              "  }\n",
              "  return element;\n",
              "}\n",
              "\n",
              "// Max number of bytes which will be uploaded at a time.\n",
              "const MAX_PAYLOAD_SIZE = 100 * 1024;\n",
              "\n",
              "function _uploadFiles(inputId, outputId) {\n",
              "  const steps = uploadFilesStep(inputId, outputId);\n",
              "  const outputElement = document.getElementById(outputId);\n",
              "  // Cache steps on the outputElement to make it available for the next call\n",
              "  // to uploadFilesContinue from Python.\n",
              "  outputElement.steps = steps;\n",
              "\n",
              "  return _uploadFilesContinue(outputId);\n",
              "}\n",
              "\n",
              "// This is roughly an async generator (not supported in the browser yet),\n",
              "// where there are multiple asynchronous steps and the Python side is going\n",
              "// to poll for completion of each step.\n",
              "// This uses a Promise to block the python side on completion of each step,\n",
              "// then passes the result of the previous step as the input to the next step.\n",
              "function _uploadFilesContinue(outputId) {\n",
              "  const outputElement = document.getElementById(outputId);\n",
              "  const steps = outputElement.steps;\n",
              "\n",
              "  const next = steps.next(outputElement.lastPromiseValue);\n",
              "  return Promise.resolve(next.value.promise).then((value) => {\n",
              "    // Cache the last promise value to make it available to the next\n",
              "    // step of the generator.\n",
              "    outputElement.lastPromiseValue = value;\n",
              "    return next.value.response;\n",
              "  });\n",
              "}\n",
              "\n",
              "/**\n",
              " * Generator function which is called between each async step of the upload\n",
              " * process.\n",
              " * @param {string} inputId Element ID of the input file picker element.\n",
              " * @param {string} outputId Element ID of the output display.\n",
              " * @return {!Iterable<!Object>} Iterable of next steps.\n",
              " */\n",
              "function* uploadFilesStep(inputId, outputId) {\n",
              "  const inputElement = document.getElementById(inputId);\n",
              "  inputElement.disabled = false;\n",
              "\n",
              "  const outputElement = document.getElementById(outputId);\n",
              "  outputElement.innerHTML = '';\n",
              "\n",
              "  const pickedPromise = new Promise((resolve) => {\n",
              "    inputElement.addEventListener('change', (e) => {\n",
              "      resolve(e.target.files);\n",
              "    });\n",
              "  });\n",
              "\n",
              "  const cancel = document.createElement('button');\n",
              "  inputElement.parentElement.appendChild(cancel);\n",
              "  cancel.textContent = 'Cancel upload';\n",
              "  const cancelPromise = new Promise((resolve) => {\n",
              "    cancel.onclick = () => {\n",
              "      resolve(null);\n",
              "    };\n",
              "  });\n",
              "\n",
              "  // Wait for the user to pick the files.\n",
              "  const files = yield {\n",
              "    promise: Promise.race([pickedPromise, cancelPromise]),\n",
              "    response: {\n",
              "      action: 'starting',\n",
              "    }\n",
              "  };\n",
              "\n",
              "  cancel.remove();\n",
              "\n",
              "  // Disable the input element since further picks are not allowed.\n",
              "  inputElement.disabled = true;\n",
              "\n",
              "  if (!files) {\n",
              "    return {\n",
              "      response: {\n",
              "        action: 'complete',\n",
              "      }\n",
              "    };\n",
              "  }\n",
              "\n",
              "  for (const file of files) {\n",
              "    const li = document.createElement('li');\n",
              "    li.append(span(file.name, {fontWeight: 'bold'}));\n",
              "    li.append(span(\n",
              "        `(${file.type || 'n/a'}) - ${file.size} bytes, ` +\n",
              "        `last modified: ${\n",
              "            file.lastModifiedDate ? file.lastModifiedDate.toLocaleDateString() :\n",
              "                                    'n/a'} - `));\n",
              "    const percent = span('0% done');\n",
              "    li.appendChild(percent);\n",
              "\n",
              "    outputElement.appendChild(li);\n",
              "\n",
              "    const fileDataPromise = new Promise((resolve) => {\n",
              "      const reader = new FileReader();\n",
              "      reader.onload = (e) => {\n",
              "        resolve(e.target.result);\n",
              "      };\n",
              "      reader.readAsArrayBuffer(file);\n",
              "    });\n",
              "    // Wait for the data to be ready.\n",
              "    let fileData = yield {\n",
              "      promise: fileDataPromise,\n",
              "      response: {\n",
              "        action: 'continue',\n",
              "      }\n",
              "    };\n",
              "\n",
              "    // Use a chunked sending to avoid message size limits. See b/62115660.\n",
              "    let position = 0;\n",
              "    do {\n",
              "      const length = Math.min(fileData.byteLength - position, MAX_PAYLOAD_SIZE);\n",
              "      const chunk = new Uint8Array(fileData, position, length);\n",
              "      position += length;\n",
              "\n",
              "      const base64 = btoa(String.fromCharCode.apply(null, chunk));\n",
              "      yield {\n",
              "        response: {\n",
              "          action: 'append',\n",
              "          file: file.name,\n",
              "          data: base64,\n",
              "        },\n",
              "      };\n",
              "\n",
              "      let percentDone = fileData.byteLength === 0 ?\n",
              "          100 :\n",
              "          Math.round((position / fileData.byteLength) * 100);\n",
              "      percent.textContent = `${percentDone}% done`;\n",
              "\n",
              "    } while (position < fileData.byteLength);\n",
              "  }\n",
              "\n",
              "  // All done.\n",
              "  yield {\n",
              "    response: {\n",
              "      action: 'complete',\n",
              "    }\n",
              "  };\n",
              "}\n",
              "\n",
              "scope.google = scope.google || {};\n",
              "scope.google.colab = scope.google.colab || {};\n",
              "scope.google.colab._files = {\n",
              "  _uploadFiles,\n",
              "  _uploadFilesContinue,\n",
              "};\n",
              "})(self);\n",
              "</script> "
            ]
          },
          "metadata": {}
        },
        {
          "output_type": "stream",
          "name": "stdout",
          "text": [
            "Saving kaggle.json to kaggle.json\n"
          ]
        },
        {
          "output_type": "execute_result",
          "data": {
            "text/plain": [
              "{'kaggle.json': b'{\"username\":\"zemelak\",\"key\":\"08c8054de361c9898298da09f2007bec\"}'}"
            ]
          },
          "metadata": {},
          "execution_count": 2
        }
      ],
      "source": [
        "# Importing datasets from Kaggle\n",
        "# Run this cell and select the kaggle.json file downloaded\n",
        "# from the Kaggle account settings page.\n",
        "from google.colab import files\n",
        "files.upload() # here the downloded kaggle.json file is imported"
      ]
    },
    {
      "cell_type": "code",
      "source": [
        "# Next\n",
        "# Let's make sure the kaggle.json file is present.\n",
        "!ls -lha kaggle.json"
      ],
      "metadata": {
        "colab": {
          "base_uri": "https://localhost:8080/"
        },
        "id": "XJMTR5IgzJ6M",
        "outputId": "7fb35cb9-0786-4153-98de-be80c6838f09"
      },
      "execution_count": null,
      "outputs": [
        {
          "output_type": "stream",
          "name": "stdout",
          "text": [
            "-rw-r--r-- 1 root root 63 Aug 10 04:59 kaggle.json\n"
          ]
        }
      ]
    },
    {
      "cell_type": "code",
      "source": [
        "# Next\n",
        "# Next, install the Kaggle API client.\n",
        "!pip install -q kaggle"
      ],
      "metadata": {
        "id": "HxuerZLezcm7"
      },
      "execution_count": null,
      "outputs": []
    },
    {
      "cell_type": "code",
      "source": [
        "# Next\n",
        "# The Kaggle API client expects this file to be in ~/.kaggle,\n",
        "# so move it there.\n",
        "!mkdir -p ~/.kaggle\n",
        "!cp kaggle.json ~/.kaggle/\n",
        "\n",
        "# This permissions change avoids a warning on Kaggle tool startup.\n",
        "!chmod 600 ~/.kaggle/kaggle.json\n"
      ],
      "metadata": {
        "id": "6JfGOh3czf8_"
      },
      "execution_count": null,
      "outputs": []
    },
    {
      "cell_type": "code",
      "source": [
        "# Next\n",
        "\n",
        "# List a given datasets\n",
        "# 'kaggle datasets download -d unitednations/global-food-agriculture-statistics' this is the specific database we want to download from kaggle. N.B it may have multiple datasets. check\n",
        "\n",
        "!kaggle datasets download -d unitednations/global-food-agriculture-statistics\n"
      ],
      "metadata": {
        "colab": {
          "base_uri": "https://localhost:8080/"
        },
        "id": "Qm2UW7u2zyqU",
        "outputId": "6b231913-d4db-49c0-ce5c-a321dae57aa6"
      },
      "execution_count": null,
      "outputs": [
        {
          "output_type": "stream",
          "name": "stdout",
          "text": [
            "Downloading global-food-agriculture-statistics.zip to /content\n",
            " 99% 441M/444M [00:08<00:00, 93.5MB/s]\n",
            "100% 444M/444M [00:08<00:00, 57.0MB/s]\n"
          ]
        }
      ]
    },
    {
      "cell_type": "code",
      "source": [
        "import zipfile\n",
        "\n",
        "# Specify the path to the downloaded ZIP file\n",
        "zip_file_path = \"/content/global-food-agriculture-statistics.zip\"\n",
        "\n",
        "# Create a ZipFile object\n",
        "with zipfile.ZipFile(zip_file_path, 'r') as zip_ref:\n",
        "    # Get the list of file paths within the ZIP archive\n",
        "    file_paths = zip_ref.namelist()\n",
        "\n",
        "# Print the list of file paths\n",
        "for path in file_paths:\n",
        "    print(path)\n"
      ],
      "metadata": {
        "colab": {
          "base_uri": "https://localhost:8080/"
        },
        "id": "tl-Q3gqo5nHh",
        "outputId": "bd3e72d7-f7df-4018-9bfb-94074255190a"
      },
      "execution_count": null,
      "outputs": [
        {
          "output_type": "stream",
          "name": "stdout",
          "text": [
            "current_FAO/__MACOSX/raw_files/._ASTI_Research_Spending_E_All_Data_(Norm).csv\n",
            "current_FAO/__MACOSX/raw_files/._ASTI_Researchers_E_All_Data_(Norm).csv\n",
            "current_FAO/__MACOSX/raw_files/._CommodityBalances_Crops_E_All_Data_(Normalized).csv\n",
            "current_FAO/__MACOSX/raw_files/._CommodityBalances_LivestockFish_E_All_Data_(Normalized).csv\n",
            "current_FAO/__MACOSX/raw_files/._ConsumerPriceIndices_E_All_Data_(Normalized).csv\n",
            "current_FAO/__MACOSX/raw_files/._Deflators_E_All_Data_(Normalized).csv\n",
            "current_FAO/__MACOSX/raw_files/._Emissions_Agriculture_Agriculture_total_E_All_Data_(Norm).csv\n",
            "current_FAO/__MACOSX/raw_files/._Emissions_Agriculture_Burning_Savanna_E_All_Data_(Norm).csv\n",
            "current_FAO/__MACOSX/raw_files/._Emissions_Agriculture_Burning_crop_residues_E_All_Data_(Norm).csv\n",
            "current_FAO/__MACOSX/raw_files/._Emissions_Agriculture_Crop_Residues_E_All_Data_(Norm).csv\n",
            "current_FAO/__MACOSX/raw_files/._Emissions_Agriculture_Cultivated_Organic_Soils_E_All_Data_(Norm).csv\n",
            "current_FAO/__MACOSX/raw_files/._Emissions_Agriculture_Energy_E_All_Data_(Norm).csv\n",
            "current_FAO/__MACOSX/raw_files/._Emissions_Agriculture_Enteric_Fermentation_E_All_Data_(Norm).csv\n",
            "current_FAO/__MACOSX/raw_files/._Emissions_Agriculture_Manure_Management_E_All_Data_(Norm).csv\n",
            "current_FAO/__MACOSX/raw_files/._Emissions_Agriculture_Manure_applied_to_soils_E_All_Data_(Norm).csv\n",
            "current_FAO/__MACOSX/raw_files/._Emissions_Agriculture_Manure_left_on_pasture_E_All_Data_(Norm).csv\n",
            "current_FAO/__MACOSX/raw_files/._Emissions_Agriculture_Rice_Cultivation_E_All_Data_(Norm).csv\n",
            "current_FAO/__MACOSX/raw_files/._Emissions_Agriculture_Synthetic_Fertilizers_E_All_Data_(Norm).csv\n",
            "current_FAO/__MACOSX/raw_files/._Emissions_Land_Use_Burning_Biomass_E_All_Data_(Norm).csv\n",
            "current_FAO/__MACOSX/raw_files/._Emissions_Land_Use_Cropland_E_All_Data_(Norm).csv\n",
            "current_FAO/__MACOSX/raw_files/._Emissions_Land_Use_Forest_Land_E_All_Data_(Norm).csv\n",
            "current_FAO/__MACOSX/raw_files/._Emissions_Land_Use_Grassland_E_All_Data_(Norm).csv\n",
            "current_FAO/__MACOSX/raw_files/._Emissions_Land_Use_Land_Use_Total_E_All_Data_(Norm).csv\n",
            "current_FAO/__MACOSX/raw_files/._Employment_Indicators_E_All_Data_(Norm).csv\n",
            "current_FAO/__MACOSX/raw_files/._Environment_AirClimateChange_E_All_Data.csv\n",
            "current_FAO/__MACOSX/raw_files/._Environment_Emissions_by_Sector_E_All_Data_(Normalized).csv\n",
            "current_FAO/__MACOSX/raw_files/._Environment_Emissions_intensities_E_All_Data_(Normalized).csv\n",
            "current_FAO/__MACOSX/raw_files/._Environment_Energy_E_All_Data.csv\n",
            "current_FAO/__MACOSX/raw_files/._Environment_Fertilizers_E_All_Data_(Normalized).csv\n",
            "current_FAO/__MACOSX/raw_files/._Environment_LandCover_E_All_Data_(Normalized).csv\n",
            "current_FAO/__MACOSX/raw_files/._Environment_LandUse_E_All_Data_(Normalized).csv\n",
            "current_FAO/__MACOSX/raw_files/._Environment_LivestockPatterns_E_All_Data_(Normalized).csv\n",
            "current_FAO/__MACOSX/raw_files/._Environment_Livestock_E_All_Data.csv\n",
            "current_FAO/__MACOSX/raw_files/._Environment_Pesticides_E_All_Data_(Normalized).csv\n",
            "current_FAO/__MACOSX/raw_files/._Environment_Soil_E_All_Data.csv\n",
            "current_FAO/__MACOSX/raw_files/._Environment_Temperature_change_E_All_Data_(Normalized).csv\n",
            "current_FAO/__MACOSX/raw_files/._Environment_Water_E_All_Data.csv\n",
            "current_FAO/__MACOSX/raw_files/._Exchange_rate_E_All_Data_(Normalized).csv\n",
            "current_FAO/__MACOSX/raw_files/._FoodSupply_Crops_E_All_Data_(Normalized).csv\n",
            "current_FAO/__MACOSX/raw_files/._FoodSupply_LivestockFish_E_All_Data_(Normalized).csv\n",
            "current_FAO/__MACOSX/raw_files/._Food_Aid_Shipments_WFP_E_All_Data_(Normalized).csv\n",
            "current_FAO/__MACOSX/raw_files/._Food_Security_Data_E_All_Data_(Normalized).csv\n",
            "current_FAO/__MACOSX/raw_files/._Forestry_E_All_Data_(Normalized).csv\n",
            "current_FAO/__MACOSX/raw_files/._Forestry_Trade_Flows_E_All_Data_(Normalized).csv\n",
            "current_FAO/__MACOSX/raw_files/._Indicators_from_Household_Surveys_E_All_Data_(Normalized).csv\n",
            "current_FAO/__MACOSX/raw_files/._Inputs_FertilizersTradeValues_E_All_Data_(Norm).csv\n",
            "current_FAO/__MACOSX/raw_files/._Inputs_Fertilizers_E_All_Data_(Normalized).csv\n",
            "current_FAO/__MACOSX/raw_files/._Inputs_Land_E_All_Data_(Normalized).csv\n",
            "current_FAO/__MACOSX/raw_files/._Inputs_Pesticides_Trade_E_All_Data_(Norm).csv\n",
            "current_FAO/__MACOSX/raw_files/._Inputs_Pesticides_Use_E_All_Data_(Normalized).csv\n",
            "current_FAO/__MACOSX/raw_files/._Investment_CapitalStock_E_All_Data_(Normalized).csv\n",
            "current_FAO/__MACOSX/raw_files/._Investment_CountryInvestmentStatisticsProfile__E_All_Data_(Normalized).csv\n",
            "current_FAO/__MACOSX/raw_files/._Investment_CreditAgriculture_E_All_Data_(Normalized).csv\n",
            "current_FAO/__MACOSX/raw_files/._Investment_ForeignDirectInvestment_E_All_Data_(Normalized).csv\n",
            "current_FAO/__MACOSX/raw_files/._Investment_GovernmentExpenditure_E_All_Data_(Normalized).csv\n",
            "current_FAO/__MACOSX/raw_files/._Investment_MachineryArchive_E_All_Data.csv\n",
            "current_FAO/__MACOSX/raw_files/._Investment_Machinery_E_All_Data.csv\n",
            "current_FAO/__MACOSX/raw_files/._Macro-Statistics_Key_Indicators_E_All_Data_(Normalized).csv\n",
            "current_FAO/__MACOSX/raw_files/._Population_E_All_Data_(Norm).csv\n",
            "current_FAO/__MACOSX/raw_files/._Population_E_All_Data_(Normalized).csv\n",
            "current_FAO/__MACOSX/raw_files/._Price_Indices_E_All_Data_(Normalized).csv\n",
            "current_FAO/__MACOSX/raw_files/._PricesArchive_E_All_Data.csv\n",
            "current_FAO/__MACOSX/raw_files/._Prices_E_All_Data_(Normalized).csv\n",
            "current_FAO/__MACOSX/raw_files/._Prices_Monthly_E_All_Data_(Normalized).csv\n",
            "current_FAO/__MACOSX/raw_files/._Production_CropsProcessed_E_All_Data_(Normalized).csv\n",
            "current_FAO/__MACOSX/raw_files/._Production_Crops_E_All_Data_(Normalized).csv\n",
            "current_FAO/__MACOSX/raw_files/._Production_Indices_E_All_Data_(Normalized).csv\n",
            "current_FAO/__MACOSX/raw_files/._Production_LivestockPrimary_E_All_Data_(Normalized).csv\n",
            "current_FAO/__MACOSX/raw_files/._Production_LivestockProcessed_E_All_Data_(Normalized).csv\n",
            "current_FAO/__MACOSX/raw_files/._Production_Livestock_E_All_Data_(Normalized).csv\n",
            "current_FAO/__MACOSX/raw_files/._Resources_FertilizersArchive_E_All_Data.csv\n",
            "current_FAO/__MACOSX/raw_files/._Trade_Crops_Livestock_E_All_Data_(Normalized).csv\n",
            "current_FAO/__MACOSX/raw_files/._Trade_Indices_E_All_Data_(Norm).csv\n",
            "current_FAO/__MACOSX/raw_files/._Trade_LiveAnimals_E_All_Data_(Normalized).csv\n",
            "current_FAO/__MACOSX/raw_files/._Value_of_Production_E_All_Data_(Normalized).csv\n",
            "current_FAO/raw_files/ASTI_Research_Spending_E_All_Data_(Norm).csv\n",
            "current_FAO/raw_files/ASTI_Researchers_E_All_Data_(Norm).csv\n",
            "current_FAO/raw_files/CommodityBalances_Crops_E_All_Data_(Normalized).csv\n",
            "current_FAO/raw_files/CommodityBalances_LivestockFish_E_All_Data_(Normalized).csv\n",
            "current_FAO/raw_files/ConsumerPriceIndices_E_All_Data_(Normalized).csv\n",
            "current_FAO/raw_files/Deflators_E_All_Data_(Normalized).csv\n",
            "current_FAO/raw_files/Emissions_Agriculture_Agriculture_total_E_All_Data_(Norm).csv\n",
            "current_FAO/raw_files/Emissions_Agriculture_Burning_Savanna_E_All_Data_(Norm).csv\n",
            "current_FAO/raw_files/Emissions_Agriculture_Burning_crop_residues_E_All_Data_(Norm).csv\n",
            "current_FAO/raw_files/Emissions_Agriculture_Crop_Residues_E_All_Data_(Norm).csv\n",
            "current_FAO/raw_files/Emissions_Agriculture_Cultivated_Organic_Soils_E_All_Data_(Norm).csv\n",
            "current_FAO/raw_files/Emissions_Agriculture_Energy_E_All_Data_(Norm).csv\n",
            "current_FAO/raw_files/Emissions_Agriculture_Enteric_Fermentation_E_All_Data_(Norm).csv\n",
            "current_FAO/raw_files/Emissions_Agriculture_Manure_Management_E_All_Data_(Norm).csv\n",
            "current_FAO/raw_files/Emissions_Agriculture_Manure_applied_to_soils_E_All_Data_(Norm).csv\n",
            "current_FAO/raw_files/Emissions_Agriculture_Manure_left_on_pasture_E_All_Data_(Norm).csv\n",
            "current_FAO/raw_files/Emissions_Agriculture_Rice_Cultivation_E_All_Data_(Norm).csv\n",
            "current_FAO/raw_files/Emissions_Agriculture_Synthetic_Fertilizers_E_All_Data_(Norm).csv\n",
            "current_FAO/raw_files/Emissions_Land_Use_Burning_Biomass_E_All_Data_(Norm).csv\n",
            "current_FAO/raw_files/Emissions_Land_Use_Cropland_E_All_Data_(Norm).csv\n",
            "current_FAO/raw_files/Emissions_Land_Use_Forest_Land_E_All_Data_(Norm).csv\n",
            "current_FAO/raw_files/Emissions_Land_Use_Grassland_E_All_Data_(Norm).csv\n",
            "current_FAO/raw_files/Emissions_Land_Use_Land_Use_Total_E_All_Data_(Norm).csv\n",
            "current_FAO/raw_files/Employment_Indicators_E_All_Data_(Norm).csv\n",
            "current_FAO/raw_files/Environment_AirClimateChange_E_All_Data.csv\n",
            "current_FAO/raw_files/Environment_Emissions_by_Sector_E_All_Data_(Normalized).csv\n",
            "current_FAO/raw_files/Environment_Emissions_intensities_E_All_Data_(Normalized).csv\n",
            "current_FAO/raw_files/Environment_Energy_E_All_Data.csv\n",
            "current_FAO/raw_files/Environment_Fertilizers_E_All_Data_(Normalized).csv\n",
            "current_FAO/raw_files/Environment_LandCover_E_All_Data_(Normalized).csv\n",
            "current_FAO/raw_files/Environment_LandUse_E_All_Data_(Normalized).csv\n",
            "current_FAO/raw_files/Environment_LivestockPatterns_E_All_Data_(Normalized).csv\n",
            "current_FAO/raw_files/Environment_Livestock_E_All_Data.csv\n",
            "current_FAO/raw_files/Environment_Pesticides_E_All_Data_(Normalized).csv\n",
            "current_FAO/raw_files/Environment_Soil_E_All_Data.csv\n",
            "current_FAO/raw_files/Environment_Temperature_change_E_All_Data_(Normalized).csv\n",
            "current_FAO/raw_files/Environment_Water_E_All_Data.csv\n",
            "current_FAO/raw_files/Exchange_rate_E_All_Data_(Normalized).csv\n",
            "current_FAO/raw_files/FoodSupply_Crops_E_All_Data_(Normalized).csv\n",
            "current_FAO/raw_files/FoodSupply_LivestockFish_E_All_Data_(Normalized).csv\n",
            "current_FAO/raw_files/Food_Aid_Shipments_WFP_E_All_Data_(Normalized).csv\n",
            "current_FAO/raw_files/Food_Security_Data_E_All_Data_(Normalized).csv\n",
            "current_FAO/raw_files/Forestry_E_All_Data_(Normalized).csv\n",
            "current_FAO/raw_files/Forestry_Trade_Flows_E_All_Data_(Normalized).csv\n",
            "current_FAO/raw_files/Indicators_from_Household_Surveys_E_All_Data_(Normalized).csv\n",
            "current_FAO/raw_files/Inputs_FertilizersTradeValues_E_All_Data_(Norm).csv\n",
            "current_FAO/raw_files/Inputs_Fertilizers_E_All_Data_(Normalized).csv\n",
            "current_FAO/raw_files/Inputs_Land_E_All_Data_(Normalized).csv\n",
            "current_FAO/raw_files/Inputs_Pesticides_Trade_E_All_Data_(Norm).csv\n",
            "current_FAO/raw_files/Inputs_Pesticides_Use_E_All_Data_(Normalized).csv\n",
            "current_FAO/raw_files/Investment_CapitalStock_E_All_Data_(Normalized).csv\n",
            "current_FAO/raw_files/Investment_CountryInvestmentStatisticsProfile__E_All_Data_(Normalized).csv\n",
            "current_FAO/raw_files/Investment_CreditAgriculture_E_All_Data_(Normalized).csv\n",
            "current_FAO/raw_files/Investment_ForeignDirectInvestment_E_All_Data_(Normalized).csv\n",
            "current_FAO/raw_files/Investment_GovernmentExpenditure_E_All_Data_(Normalized).csv\n",
            "current_FAO/raw_files/Investment_MachineryArchive_E_All_Data.csv\n",
            "current_FAO/raw_files/Investment_Machinery_E_All_Data.csv\n",
            "current_FAO/raw_files/Macro-Statistics_Key_Indicators_E_All_Data_(Normalized).csv\n",
            "current_FAO/raw_files/Population_E_All_Data_(Norm).csv\n",
            "current_FAO/raw_files/Population_E_All_Data_(Normalized).csv\n",
            "current_FAO/raw_files/Price_Indices_E_All_Data_(Normalized).csv\n",
            "current_FAO/raw_files/PricesArchive_E_All_Data.csv\n",
            "current_FAO/raw_files/Prices_E_All_Data_(Normalized).csv\n",
            "current_FAO/raw_files/Prices_Monthly_E_All_Data_(Normalized).csv\n",
            "current_FAO/raw_files/Production_CropsProcessed_E_All_Data_(Normalized).csv\n",
            "current_FAO/raw_files/Production_Crops_E_All_Data_(Normalized).csv\n",
            "current_FAO/raw_files/Production_Indices_E_All_Data_(Normalized).csv\n",
            "current_FAO/raw_files/Production_LivestockPrimary_E_All_Data_(Normalized).csv\n",
            "current_FAO/raw_files/Production_LivestockProcessed_E_All_Data_(Normalized).csv\n",
            "current_FAO/raw_files/Production_Livestock_E_All_Data_(Normalized).csv\n",
            "current_FAO/raw_files/Resources_FertilizersArchive_E_All_Data.csv\n",
            "current_FAO/raw_files/Trade_Crops_Livestock_E_All_Data_(Normalized).csv\n",
            "current_FAO/raw_files/Trade_Indices_E_All_Data_(Norm).csv\n",
            "current_FAO/raw_files/Trade_LiveAnimals_E_All_Data_(Normalized).csv\n",
            "current_FAO/raw_files/Value_of_Production_E_All_Data_(Normalized).csv\n",
            "fao_data_crops_data.csv\n",
            "fao_data_fertilizers_data.csv\n",
            "fao_data_forest_data.csv\n",
            "fao_data_land_data.csv\n",
            "fao_data_production_indices_data.csv\n"
          ]
        }
      ]
    },
    {
      "cell_type": "code",
      "source": [
        "# Opening a specific file\n",
        "import pandas as pd\n",
        "from zipfile import ZipFile\n",
        "\n",
        "# Specify the CSV file to read from the ZIP archive\n",
        "csv_file_to_read = 'current_FAO/raw_files/CommodityBalances_LivestockFish_E_All_Data_(Normalized).csv'\n",
        "\n",
        "# Read the ZIP archive\n",
        "with ZipFile(\"/content/global-food-agriculture-statistics.zip\", 'r') as zip_file:\n",
        "    # List the files within the ZIP archive (to double-check paths)\n",
        "    print(zip_file.namelist())\n",
        "\n",
        "    # Read the CSV file from the ZIP archive with the specified encoding and delimiter\n",
        "    with zip_file.open(csv_file_to_read) as csv_file:\n",
        "        df = pd.read_csv(csv_file, encoding='ISO-8859-1', sep=',', quotechar='\"')\n",
        "\n",
        "# Display first 5 rows\n",
        "print(df.head())"
      ],
      "metadata": {
        "colab": {
          "base_uri": "https://localhost:8080/"
        },
        "id": "_CDqXQTG0kkP",
        "outputId": "0404479e-66f1-4b14-fd3b-10aae6c25759"
      },
      "execution_count": null,
      "outputs": [
        {
          "output_type": "stream",
          "name": "stdout",
          "text": [
            "['current_FAO/__MACOSX/raw_files/._ASTI_Research_Spending_E_All_Data_(Norm).csv', 'current_FAO/__MACOSX/raw_files/._ASTI_Researchers_E_All_Data_(Norm).csv', 'current_FAO/__MACOSX/raw_files/._CommodityBalances_Crops_E_All_Data_(Normalized).csv', 'current_FAO/__MACOSX/raw_files/._CommodityBalances_LivestockFish_E_All_Data_(Normalized).csv', 'current_FAO/__MACOSX/raw_files/._ConsumerPriceIndices_E_All_Data_(Normalized).csv', 'current_FAO/__MACOSX/raw_files/._Deflators_E_All_Data_(Normalized).csv', 'current_FAO/__MACOSX/raw_files/._Emissions_Agriculture_Agriculture_total_E_All_Data_(Norm).csv', 'current_FAO/__MACOSX/raw_files/._Emissions_Agriculture_Burning_Savanna_E_All_Data_(Norm).csv', 'current_FAO/__MACOSX/raw_files/._Emissions_Agriculture_Burning_crop_residues_E_All_Data_(Norm).csv', 'current_FAO/__MACOSX/raw_files/._Emissions_Agriculture_Crop_Residues_E_All_Data_(Norm).csv', 'current_FAO/__MACOSX/raw_files/._Emissions_Agriculture_Cultivated_Organic_Soils_E_All_Data_(Norm).csv', 'current_FAO/__MACOSX/raw_files/._Emissions_Agriculture_Energy_E_All_Data_(Norm).csv', 'current_FAO/__MACOSX/raw_files/._Emissions_Agriculture_Enteric_Fermentation_E_All_Data_(Norm).csv', 'current_FAO/__MACOSX/raw_files/._Emissions_Agriculture_Manure_Management_E_All_Data_(Norm).csv', 'current_FAO/__MACOSX/raw_files/._Emissions_Agriculture_Manure_applied_to_soils_E_All_Data_(Norm).csv', 'current_FAO/__MACOSX/raw_files/._Emissions_Agriculture_Manure_left_on_pasture_E_All_Data_(Norm).csv', 'current_FAO/__MACOSX/raw_files/._Emissions_Agriculture_Rice_Cultivation_E_All_Data_(Norm).csv', 'current_FAO/__MACOSX/raw_files/._Emissions_Agriculture_Synthetic_Fertilizers_E_All_Data_(Norm).csv', 'current_FAO/__MACOSX/raw_files/._Emissions_Land_Use_Burning_Biomass_E_All_Data_(Norm).csv', 'current_FAO/__MACOSX/raw_files/._Emissions_Land_Use_Cropland_E_All_Data_(Norm).csv', 'current_FAO/__MACOSX/raw_files/._Emissions_Land_Use_Forest_Land_E_All_Data_(Norm).csv', 'current_FAO/__MACOSX/raw_files/._Emissions_Land_Use_Grassland_E_All_Data_(Norm).csv', 'current_FAO/__MACOSX/raw_files/._Emissions_Land_Use_Land_Use_Total_E_All_Data_(Norm).csv', 'current_FAO/__MACOSX/raw_files/._Employment_Indicators_E_All_Data_(Norm).csv', 'current_FAO/__MACOSX/raw_files/._Environment_AirClimateChange_E_All_Data.csv', 'current_FAO/__MACOSX/raw_files/._Environment_Emissions_by_Sector_E_All_Data_(Normalized).csv', 'current_FAO/__MACOSX/raw_files/._Environment_Emissions_intensities_E_All_Data_(Normalized).csv', 'current_FAO/__MACOSX/raw_files/._Environment_Energy_E_All_Data.csv', 'current_FAO/__MACOSX/raw_files/._Environment_Fertilizers_E_All_Data_(Normalized).csv', 'current_FAO/__MACOSX/raw_files/._Environment_LandCover_E_All_Data_(Normalized).csv', 'current_FAO/__MACOSX/raw_files/._Environment_LandUse_E_All_Data_(Normalized).csv', 'current_FAO/__MACOSX/raw_files/._Environment_LivestockPatterns_E_All_Data_(Normalized).csv', 'current_FAO/__MACOSX/raw_files/._Environment_Livestock_E_All_Data.csv', 'current_FAO/__MACOSX/raw_files/._Environment_Pesticides_E_All_Data_(Normalized).csv', 'current_FAO/__MACOSX/raw_files/._Environment_Soil_E_All_Data.csv', 'current_FAO/__MACOSX/raw_files/._Environment_Temperature_change_E_All_Data_(Normalized).csv', 'current_FAO/__MACOSX/raw_files/._Environment_Water_E_All_Data.csv', 'current_FAO/__MACOSX/raw_files/._Exchange_rate_E_All_Data_(Normalized).csv', 'current_FAO/__MACOSX/raw_files/._FoodSupply_Crops_E_All_Data_(Normalized).csv', 'current_FAO/__MACOSX/raw_files/._FoodSupply_LivestockFish_E_All_Data_(Normalized).csv', 'current_FAO/__MACOSX/raw_files/._Food_Aid_Shipments_WFP_E_All_Data_(Normalized).csv', 'current_FAO/__MACOSX/raw_files/._Food_Security_Data_E_All_Data_(Normalized).csv', 'current_FAO/__MACOSX/raw_files/._Forestry_E_All_Data_(Normalized).csv', 'current_FAO/__MACOSX/raw_files/._Forestry_Trade_Flows_E_All_Data_(Normalized).csv', 'current_FAO/__MACOSX/raw_files/._Indicators_from_Household_Surveys_E_All_Data_(Normalized).csv', 'current_FAO/__MACOSX/raw_files/._Inputs_FertilizersTradeValues_E_All_Data_(Norm).csv', 'current_FAO/__MACOSX/raw_files/._Inputs_Fertilizers_E_All_Data_(Normalized).csv', 'current_FAO/__MACOSX/raw_files/._Inputs_Land_E_All_Data_(Normalized).csv', 'current_FAO/__MACOSX/raw_files/._Inputs_Pesticides_Trade_E_All_Data_(Norm).csv', 'current_FAO/__MACOSX/raw_files/._Inputs_Pesticides_Use_E_All_Data_(Normalized).csv', 'current_FAO/__MACOSX/raw_files/._Investment_CapitalStock_E_All_Data_(Normalized).csv', 'current_FAO/__MACOSX/raw_files/._Investment_CountryInvestmentStatisticsProfile__E_All_Data_(Normalized).csv', 'current_FAO/__MACOSX/raw_files/._Investment_CreditAgriculture_E_All_Data_(Normalized).csv', 'current_FAO/__MACOSX/raw_files/._Investment_ForeignDirectInvestment_E_All_Data_(Normalized).csv', 'current_FAO/__MACOSX/raw_files/._Investment_GovernmentExpenditure_E_All_Data_(Normalized).csv', 'current_FAO/__MACOSX/raw_files/._Investment_MachineryArchive_E_All_Data.csv', 'current_FAO/__MACOSX/raw_files/._Investment_Machinery_E_All_Data.csv', 'current_FAO/__MACOSX/raw_files/._Macro-Statistics_Key_Indicators_E_All_Data_(Normalized).csv', 'current_FAO/__MACOSX/raw_files/._Population_E_All_Data_(Norm).csv', 'current_FAO/__MACOSX/raw_files/._Population_E_All_Data_(Normalized).csv', 'current_FAO/__MACOSX/raw_files/._Price_Indices_E_All_Data_(Normalized).csv', 'current_FAO/__MACOSX/raw_files/._PricesArchive_E_All_Data.csv', 'current_FAO/__MACOSX/raw_files/._Prices_E_All_Data_(Normalized).csv', 'current_FAO/__MACOSX/raw_files/._Prices_Monthly_E_All_Data_(Normalized).csv', 'current_FAO/__MACOSX/raw_files/._Production_CropsProcessed_E_All_Data_(Normalized).csv', 'current_FAO/__MACOSX/raw_files/._Production_Crops_E_All_Data_(Normalized).csv', 'current_FAO/__MACOSX/raw_files/._Production_Indices_E_All_Data_(Normalized).csv', 'current_FAO/__MACOSX/raw_files/._Production_LivestockPrimary_E_All_Data_(Normalized).csv', 'current_FAO/__MACOSX/raw_files/._Production_LivestockProcessed_E_All_Data_(Normalized).csv', 'current_FAO/__MACOSX/raw_files/._Production_Livestock_E_All_Data_(Normalized).csv', 'current_FAO/__MACOSX/raw_files/._Resources_FertilizersArchive_E_All_Data.csv', 'current_FAO/__MACOSX/raw_files/._Trade_Crops_Livestock_E_All_Data_(Normalized).csv', 'current_FAO/__MACOSX/raw_files/._Trade_Indices_E_All_Data_(Norm).csv', 'current_FAO/__MACOSX/raw_files/._Trade_LiveAnimals_E_All_Data_(Normalized).csv', 'current_FAO/__MACOSX/raw_files/._Value_of_Production_E_All_Data_(Normalized).csv', 'current_FAO/raw_files/ASTI_Research_Spending_E_All_Data_(Norm).csv', 'current_FAO/raw_files/ASTI_Researchers_E_All_Data_(Norm).csv', 'current_FAO/raw_files/CommodityBalances_Crops_E_All_Data_(Normalized).csv', 'current_FAO/raw_files/CommodityBalances_LivestockFish_E_All_Data_(Normalized).csv', 'current_FAO/raw_files/ConsumerPriceIndices_E_All_Data_(Normalized).csv', 'current_FAO/raw_files/Deflators_E_All_Data_(Normalized).csv', 'current_FAO/raw_files/Emissions_Agriculture_Agriculture_total_E_All_Data_(Norm).csv', 'current_FAO/raw_files/Emissions_Agriculture_Burning_Savanna_E_All_Data_(Norm).csv', 'current_FAO/raw_files/Emissions_Agriculture_Burning_crop_residues_E_All_Data_(Norm).csv', 'current_FAO/raw_files/Emissions_Agriculture_Crop_Residues_E_All_Data_(Norm).csv', 'current_FAO/raw_files/Emissions_Agriculture_Cultivated_Organic_Soils_E_All_Data_(Norm).csv', 'current_FAO/raw_files/Emissions_Agriculture_Energy_E_All_Data_(Norm).csv', 'current_FAO/raw_files/Emissions_Agriculture_Enteric_Fermentation_E_All_Data_(Norm).csv', 'current_FAO/raw_files/Emissions_Agriculture_Manure_Management_E_All_Data_(Norm).csv', 'current_FAO/raw_files/Emissions_Agriculture_Manure_applied_to_soils_E_All_Data_(Norm).csv', 'current_FAO/raw_files/Emissions_Agriculture_Manure_left_on_pasture_E_All_Data_(Norm).csv', 'current_FAO/raw_files/Emissions_Agriculture_Rice_Cultivation_E_All_Data_(Norm).csv', 'current_FAO/raw_files/Emissions_Agriculture_Synthetic_Fertilizers_E_All_Data_(Norm).csv', 'current_FAO/raw_files/Emissions_Land_Use_Burning_Biomass_E_All_Data_(Norm).csv', 'current_FAO/raw_files/Emissions_Land_Use_Cropland_E_All_Data_(Norm).csv', 'current_FAO/raw_files/Emissions_Land_Use_Forest_Land_E_All_Data_(Norm).csv', 'current_FAO/raw_files/Emissions_Land_Use_Grassland_E_All_Data_(Norm).csv', 'current_FAO/raw_files/Emissions_Land_Use_Land_Use_Total_E_All_Data_(Norm).csv', 'current_FAO/raw_files/Employment_Indicators_E_All_Data_(Norm).csv', 'current_FAO/raw_files/Environment_AirClimateChange_E_All_Data.csv', 'current_FAO/raw_files/Environment_Emissions_by_Sector_E_All_Data_(Normalized).csv', 'current_FAO/raw_files/Environment_Emissions_intensities_E_All_Data_(Normalized).csv', 'current_FAO/raw_files/Environment_Energy_E_All_Data.csv', 'current_FAO/raw_files/Environment_Fertilizers_E_All_Data_(Normalized).csv', 'current_FAO/raw_files/Environment_LandCover_E_All_Data_(Normalized).csv', 'current_FAO/raw_files/Environment_LandUse_E_All_Data_(Normalized).csv', 'current_FAO/raw_files/Environment_LivestockPatterns_E_All_Data_(Normalized).csv', 'current_FAO/raw_files/Environment_Livestock_E_All_Data.csv', 'current_FAO/raw_files/Environment_Pesticides_E_All_Data_(Normalized).csv', 'current_FAO/raw_files/Environment_Soil_E_All_Data.csv', 'current_FAO/raw_files/Environment_Temperature_change_E_All_Data_(Normalized).csv', 'current_FAO/raw_files/Environment_Water_E_All_Data.csv', 'current_FAO/raw_files/Exchange_rate_E_All_Data_(Normalized).csv', 'current_FAO/raw_files/FoodSupply_Crops_E_All_Data_(Normalized).csv', 'current_FAO/raw_files/FoodSupply_LivestockFish_E_All_Data_(Normalized).csv', 'current_FAO/raw_files/Food_Aid_Shipments_WFP_E_All_Data_(Normalized).csv', 'current_FAO/raw_files/Food_Security_Data_E_All_Data_(Normalized).csv', 'current_FAO/raw_files/Forestry_E_All_Data_(Normalized).csv', 'current_FAO/raw_files/Forestry_Trade_Flows_E_All_Data_(Normalized).csv', 'current_FAO/raw_files/Indicators_from_Household_Surveys_E_All_Data_(Normalized).csv', 'current_FAO/raw_files/Inputs_FertilizersTradeValues_E_All_Data_(Norm).csv', 'current_FAO/raw_files/Inputs_Fertilizers_E_All_Data_(Normalized).csv', 'current_FAO/raw_files/Inputs_Land_E_All_Data_(Normalized).csv', 'current_FAO/raw_files/Inputs_Pesticides_Trade_E_All_Data_(Norm).csv', 'current_FAO/raw_files/Inputs_Pesticides_Use_E_All_Data_(Normalized).csv', 'current_FAO/raw_files/Investment_CapitalStock_E_All_Data_(Normalized).csv', 'current_FAO/raw_files/Investment_CountryInvestmentStatisticsProfile__E_All_Data_(Normalized).csv', 'current_FAO/raw_files/Investment_CreditAgriculture_E_All_Data_(Normalized).csv', 'current_FAO/raw_files/Investment_ForeignDirectInvestment_E_All_Data_(Normalized).csv', 'current_FAO/raw_files/Investment_GovernmentExpenditure_E_All_Data_(Normalized).csv', 'current_FAO/raw_files/Investment_MachineryArchive_E_All_Data.csv', 'current_FAO/raw_files/Investment_Machinery_E_All_Data.csv', 'current_FAO/raw_files/Macro-Statistics_Key_Indicators_E_All_Data_(Normalized).csv', 'current_FAO/raw_files/Population_E_All_Data_(Norm).csv', 'current_FAO/raw_files/Population_E_All_Data_(Normalized).csv', 'current_FAO/raw_files/Price_Indices_E_All_Data_(Normalized).csv', 'current_FAO/raw_files/PricesArchive_E_All_Data.csv', 'current_FAO/raw_files/Prices_E_All_Data_(Normalized).csv', 'current_FAO/raw_files/Prices_Monthly_E_All_Data_(Normalized).csv', 'current_FAO/raw_files/Production_CropsProcessed_E_All_Data_(Normalized).csv', 'current_FAO/raw_files/Production_Crops_E_All_Data_(Normalized).csv', 'current_FAO/raw_files/Production_Indices_E_All_Data_(Normalized).csv', 'current_FAO/raw_files/Production_LivestockPrimary_E_All_Data_(Normalized).csv', 'current_FAO/raw_files/Production_LivestockProcessed_E_All_Data_(Normalized).csv', 'current_FAO/raw_files/Production_Livestock_E_All_Data_(Normalized).csv', 'current_FAO/raw_files/Resources_FertilizersArchive_E_All_Data.csv', 'current_FAO/raw_files/Trade_Crops_Livestock_E_All_Data_(Normalized).csv', 'current_FAO/raw_files/Trade_Indices_E_All_Data_(Norm).csv', 'current_FAO/raw_files/Trade_LiveAnimals_E_All_Data_(Normalized).csv', 'current_FAO/raw_files/Value_of_Production_E_All_Data_(Normalized).csv', 'fao_data_crops_data.csv', 'fao_data_fertilizers_data.csv', 'fao_data_forest_data.csv', 'fao_data_land_data.csv', 'fao_data_production_indices_data.csv']\n",
            "   Area Code         Area  Item Code         Item  Element Code     Element  \\\n",
            "0          2  Afghanistan       2731  Bovine Meat          5510  Production   \n",
            "1          2  Afghanistan       2731  Bovine Meat          5510  Production   \n",
            "2          2  Afghanistan       2731  Bovine Meat          5510  Production   \n",
            "3          2  Afghanistan       2731  Bovine Meat          5510  Production   \n",
            "4          2  Afghanistan       2731  Bovine Meat          5510  Production   \n",
            "\n",
            "   Year Code  Year    Unit    Value Flag  \n",
            "0       1961  1961  tonnes  43000.0    S  \n",
            "1       1962  1962  tonnes  45800.0    S  \n",
            "2       1963  1963  tonnes  47250.0    S  \n",
            "3       1964  1964  tonnes  48000.0    S  \n",
            "4       1965  1965  tonnes  48700.0    S  \n"
          ]
        }
      ]
    },
    {
      "cell_type": "code",
      "source": [
        "# initial data profiling\n",
        "# Display the shape of the DataFrame (number of rows and columns)\n",
        "print(\"\\nDataFrame shape:\")\n",
        "print(df.shape)\n",
        "\n",
        "# Display basic information about the DataFrame\n",
        "print(\"\\nDataFrame info:\")\n",
        "print(df.info())\n",
        "\n",
        "# Display basic summary statistics of numeric columns\n",
        "print(\"\\nSummary statistics:\")\n",
        "print(df.describe())\n"
      ],
      "metadata": {
        "colab": {
          "base_uri": "https://localhost:8080/"
        },
        "id": "HzvZXoXsCAkB",
        "outputId": "d79f9181-75e3-49e0-8220-fec27c9a2a35"
      },
      "execution_count": null,
      "outputs": [
        {
          "output_type": "stream",
          "name": "stdout",
          "text": [
            "\n",
            "DataFrame shape:\n",
            "(2459791, 11)\n",
            "\n",
            "DataFrame info:\n",
            "<class 'pandas.core.frame.DataFrame'>\n",
            "RangeIndex: 2459791 entries, 0 to 2459790\n",
            "Data columns (total 11 columns):\n",
            " #   Column        Dtype  \n",
            "---  ------        -----  \n",
            " 0   Area Code     int64  \n",
            " 1   Area          object \n",
            " 2   Item Code     int64  \n",
            " 3   Item          object \n",
            " 4   Element Code  int64  \n",
            " 5   Element       object \n",
            " 6   Year Code     int64  \n",
            " 7   Year          int64  \n",
            " 8   Unit          object \n",
            " 9   Value         float64\n",
            " 10  Flag          object \n",
            "dtypes: float64(1), int64(5), object(5)\n",
            "memory usage: 206.4+ MB\n",
            "None\n",
            "\n",
            "Summary statistics:\n",
            "          Area Code     Item Code  Element Code     Year Code          Year  \\\n",
            "count  2.459791e+06  2.459791e+06  2.459791e+06  2.459791e+06  2.459791e+06   \n",
            "mean   1.251979e+03  2.798769e+03  5.405312e+03  1.987730e+03  1.987730e+03   \n",
            "std    2.162616e+03  8.306858e+01  2.705903e+02  1.535588e+01  1.535588e+01   \n",
            "min    1.000000e+00  2.731000e+03  5.071000e+03  1.961000e+03  1.961000e+03   \n",
            "25%    7.900000e+01  2.740000e+03  5.141000e+03  1.974000e+03  1.974000e+03   \n",
            "50%    1.510000e+02  2.762000e+03  5.300000e+03  1.988000e+03  1.988000e+03   \n",
            "75%    2.340000e+02  2.848000e+03  5.610000e+03  2.001000e+03  2.001000e+03   \n",
            "max    5.817000e+03  2.961000e+03  5.910000e+03  2.013000e+03  2.013000e+03   \n",
            "\n",
            "              Value  \n",
            "count  2.459791e+06  \n",
            "mean   7.854406e+05  \n",
            "std    9.219080e+06  \n",
            "min   -6.406200e+06  \n",
            "25%    0.000000e+00  \n",
            "50%    1.358000e+03  \n",
            "75%    3.991300e+04  \n",
            "max    7.530360e+08  \n"
          ]
        }
      ]
    },
    {
      "cell_type": "code",
      "source": [
        "# Examine data types, missing values, and potential data quality issues\n",
        "\n",
        "# Display data types of columns\n",
        "print(\"Data types of columns:\")\n",
        "print(df.dtypes)\n",
        "\n",
        "# Check for missing values in each column\n",
        "print(\"\\nMissing values in each column:\")\n",
        "print(df.isnull().sum())\n",
        "\n",
        "# Check for unique values in categorical columns\n",
        "categorical_columns = df.select_dtypes(include=['object']).columns\n",
        "for column in categorical_columns:\n",
        "    unique_values = df[column].unique()\n",
        "    print(f\"\\nUnique values in '{column}':\")\n",
        "    print(unique_values)\n",
        "\n",
        "# Check for potential data quality issues or inconsistencies\n",
        "# For example, you can check for negative values in columns where they shouldn't exist\n",
        "negative_values_columns = ['Value']  # Adjust with relevant columns\n",
        "negative_values = df[negative_values_columns][df[negative_values_columns] < 0]\n",
        "if not negative_values.empty:\n",
        "    print(\"\\nPotential data quality issues - Negative values:\")\n",
        "    print(negative_values)"
      ],
      "metadata": {
        "colab": {
          "base_uri": "https://localhost:8080/"
        },
        "id": "oaquFn-gClC_",
        "outputId": "0b9fbc35-5fc4-4263-8f9e-c02053f32efd"
      },
      "execution_count": null,
      "outputs": [
        {
          "output_type": "stream",
          "name": "stdout",
          "text": [
            "Data types of columns:\n",
            "Area Code         int64\n",
            "Area             object\n",
            "Item Code         int64\n",
            "Item             object\n",
            "Element Code      int64\n",
            "Element          object\n",
            "Year Code         int64\n",
            "Year              int64\n",
            "Unit             object\n",
            "Value           float64\n",
            "Flag             object\n",
            "dtype: object\n",
            "\n",
            "Missing values in each column:\n",
            "Area Code       0\n",
            "Area            0\n",
            "Item Code       0\n",
            "Item            0\n",
            "Element Code    0\n",
            "Element         0\n",
            "Year Code       0\n",
            "Year            0\n",
            "Unit            0\n",
            "Value           0\n",
            "Flag            0\n",
            "dtype: int64\n",
            "\n",
            "Unique values in 'Area':\n",
            "['Afghanistan' 'Albania' 'Algeria' 'Angola' 'Antigua and Barbuda'\n",
            " 'Argentina' 'Armenia' 'Australia' 'Austria' 'Azerbaijan' 'Bahamas'\n",
            " 'Bangladesh' 'Barbados' 'Belarus' 'Belgium' 'Belgium-Luxembourg' 'Belize'\n",
            " 'Benin' 'Bermuda' 'Bolivia (Plurinational State of)'\n",
            " 'Bosnia and Herzegovina' 'Botswana' 'Brazil' 'Brunei Darussalam'\n",
            " 'Bulgaria' 'Burkina Faso' 'Cabo Verde' 'Cambodia' 'Cameroon' 'Canada'\n",
            " 'Central African Republic' 'Chad' 'Chile' 'China, Hong Kong SAR'\n",
            " 'China, Macao SAR' 'China, mainland' 'China, Taiwan Province of'\n",
            " 'Colombia' 'Congo' 'Costa Rica' \"Côte d'Ivoire\" 'Croatia' 'Cuba' 'Cyprus'\n",
            " 'Czechia' 'Czechoslovakia' \"Democratic People's Republic of Korea\"\n",
            " 'Denmark' 'Djibouti' 'Dominica' 'Dominican Republic' 'Ecuador' 'Egypt'\n",
            " 'El Salvador' 'Estonia' 'Ethiopia' 'Ethiopia PDR' 'Fiji' 'Finland'\n",
            " 'France' 'French Polynesia' 'Gabon' 'Gambia' 'Georgia' 'Germany' 'Ghana'\n",
            " 'Greece' 'Grenada' 'Guatemala' 'Guinea' 'Guinea-Bissau' 'Guyana' 'Haiti'\n",
            " 'Honduras' 'Hungary' 'Iceland' 'India' 'Indonesia'\n",
            " 'Iran (Islamic Republic of)' 'Iraq' 'Ireland' 'Israel' 'Italy' 'Jamaica'\n",
            " 'Japan' 'Jordan' 'Kazakhstan' 'Kenya' 'Kiribati' 'Kuwait' 'Kyrgyzstan'\n",
            " \"Lao People's Democratic Republic\" 'Latvia' 'Lebanon' 'Lesotho' 'Liberia'\n",
            " 'Lithuania' 'Luxembourg' 'Madagascar' 'Malawi' 'Malaysia' 'Maldives'\n",
            " 'Mali' 'Malta' 'Mauritania' 'Mauritius' 'Mexico' 'Mongolia' 'Montenegro'\n",
            " 'Morocco' 'Mozambique' 'Myanmar' 'Namibia' 'Nepal' 'Netherlands'\n",
            " 'Netherlands Antilles (former)' 'New Caledonia' 'New Zealand' 'Nicaragua'\n",
            " 'Niger' 'Nigeria' 'Norway' 'Oman' 'Pakistan' 'Panama' 'Paraguay' 'Peru'\n",
            " 'Philippines' 'Poland' 'Portugal' 'Republic of Korea'\n",
            " 'Republic of Moldova' 'Romania' 'Russian Federation' 'Rwanda'\n",
            " 'Saint Kitts and Nevis' 'Saint Lucia' 'Saint Vincent and the Grenadines'\n",
            " 'Samoa' 'Sao Tome and Principe' 'Saudi Arabia' 'Senegal' 'Serbia'\n",
            " 'Serbia and Montenegro' 'Sierra Leone' 'Slovakia' 'Slovenia'\n",
            " 'Solomon Islands' 'South Africa' 'Spain' 'Sri Lanka' 'Sudan'\n",
            " 'Sudan (former)' 'Suriname' 'Swaziland' 'Sweden' 'Switzerland'\n",
            " 'Tajikistan' 'Thailand' 'The former Yugoslav Republic of Macedonia'\n",
            " 'Timor-Leste' 'Togo' 'Trinidad and Tobago' 'Tunisia' 'Turkey'\n",
            " 'Turkmenistan' 'Uganda' 'Ukraine' 'United Arab Emirates' 'United Kingdom'\n",
            " 'United Republic of Tanzania' 'United States of America' 'Uruguay' 'USSR'\n",
            " 'Uzbekistan' 'Vanuatu' 'Venezuela (Bolivarian Republic of)' 'Viet Nam'\n",
            " 'Yemen' 'Yugoslav SFR' 'Zambia' 'Zimbabwe' 'World' 'Africa'\n",
            " 'Eastern Africa' 'Middle Africa' 'Northern Africa' 'Southern Africa'\n",
            " 'Western Africa' 'Americas' 'Northern America' 'Central America'\n",
            " 'Caribbean' 'South America' 'Asia' 'Central Asia' 'Eastern Asia'\n",
            " 'Southern Asia' 'South-Eastern Asia' 'Western Asia' 'Europe'\n",
            " 'Eastern Europe' 'Northern Europe' 'Southern Europe' 'Western Europe'\n",
            " 'Oceania' 'Australia & New Zealand' 'Melanesia' 'Micronesia' 'Polynesia'\n",
            " 'European Union' 'Least Developed Countries'\n",
            " 'Land Locked Developing Countries' 'Small Island Developing States'\n",
            " 'Low Income Food Deficit Countries'\n",
            " 'Net Food Importing Developing Countries']\n",
            "\n",
            "Unique values in 'Item':\n",
            "['Bovine Meat' 'Butter, Ghee' 'Cheese' 'Cream' 'Eggs' 'Fats, Animals, Raw'\n",
            " 'Freshwater Fish' 'Hides and skins' 'Honey' 'Meat, Other'\n",
            " 'Milk - Excluding Butter' 'Milk, Skimmed' 'Milk, Whole'\n",
            " 'Mutton & Goat Meat' 'Offals, Edible' 'Poultry Meat' 'Silk' 'Whey'\n",
            " 'Wool (Clean Eq.)' 'Animal fats' 'Fish, Seafood' 'Meat' 'Offals'\n",
            " 'Aquatic Animals, Others' 'Aquatic Plants' 'Cephalopods' 'Crustaceans'\n",
            " 'Demersal Fish' 'Fish Meal' 'Fish, Body Oil' 'Fish, Liver Oil'\n",
            " 'Marine Fish, Other' 'Meat Meal' 'Molluscs, Other' 'Pelagic Fish'\n",
            " 'Pigmeat' 'Aquatic Products, Other' 'Meat, Aquatic Mammals']\n",
            "\n",
            "Unique values in 'Element':\n",
            "['Production' 'Import Quantity' 'Domestic supply quantity'\n",
            " 'Food supply quantity (tonnes)' 'Seed' 'Waste' 'Other uses'\n",
            " 'Stock Variation' 'Export Quantity' 'Feed' 'Processing']\n",
            "\n",
            "Unique values in 'Unit':\n",
            "['tonnes']\n",
            "\n",
            "Unique values in 'Flag':\n",
            "['S' 'A' 'SD']\n",
            "\n",
            "Potential data quality issues - Negative values:\n",
            "         Value\n",
            "0          NaN\n",
            "1          NaN\n",
            "2          NaN\n",
            "3          NaN\n",
            "4          NaN\n",
            "...        ...\n",
            "2459786    NaN\n",
            "2459787    NaN\n",
            "2459788    NaN\n",
            "2459789    NaN\n",
            "2459790    NaN\n",
            "\n",
            "[2459791 rows x 1 columns]\n"
          ]
        }
      ]
    },
    {
      "cell_type": "code",
      "source": [
        "# Calculate summary statistics for numeric columns\n",
        "summary_stats = df.describe(include='all')\n",
        "print(\"Summary Statistics:\")\n",
        "print(summary_stats)\n"
      ],
      "metadata": {
        "colab": {
          "base_uri": "https://localhost:8080/"
        },
        "id": "geD8y1vbDMhA",
        "outputId": "250d65b8-ac10-47df-fc38-5b29dc6e93aa"
      },
      "execution_count": null,
      "outputs": [
        {
          "output_type": "stream",
          "name": "stdout",
          "text": [
            "Summary Statistics:\n",
            "           Area Code     Area     Item Code                     Item  \\\n",
            "count   2.459791e+06  2459791  2.459791e+06                  2459791   \n",
            "unique           NaN      216           NaN                       38   \n",
            "top              NaN    World           NaN  Milk - Excluding Butter   \n",
            "freq             NaN    19049           NaN                   173274   \n",
            "mean    1.251979e+03      NaN  2.798769e+03                      NaN   \n",
            "std     2.162616e+03      NaN  8.306858e+01                      NaN   \n",
            "min     1.000000e+00      NaN  2.731000e+03                      NaN   \n",
            "25%     7.900000e+01      NaN  2.740000e+03                      NaN   \n",
            "50%     1.510000e+02      NaN  2.762000e+03                      NaN   \n",
            "75%     2.340000e+02      NaN  2.848000e+03                      NaN   \n",
            "max     5.817000e+03      NaN  2.961000e+03                      NaN   \n",
            "\n",
            "        Element Code                   Element     Year Code          Year  \\\n",
            "count   2.459791e+06                   2459791  2.459791e+06  2.459791e+06   \n",
            "unique           NaN                        11           NaN           NaN   \n",
            "top              NaN  Domestic supply quantity           NaN           NaN   \n",
            "freq             NaN                    388016           NaN           NaN   \n",
            "mean    5.405312e+03                       NaN  1.987730e+03  1.987730e+03   \n",
            "std     2.705903e+02                       NaN  1.535588e+01  1.535588e+01   \n",
            "min     5.071000e+03                       NaN  1.961000e+03  1.961000e+03   \n",
            "25%     5.141000e+03                       NaN  1.974000e+03  1.974000e+03   \n",
            "50%     5.300000e+03                       NaN  1.988000e+03  1.988000e+03   \n",
            "75%     5.610000e+03                       NaN  2.001000e+03  2.001000e+03   \n",
            "max     5.910000e+03                       NaN  2.013000e+03  2.013000e+03   \n",
            "\n",
            "           Unit         Value     Flag  \n",
            "count   2459791  2.459791e+06  2459791  \n",
            "unique        1           NaN        3  \n",
            "top      tonnes           NaN        S  \n",
            "freq    2459791           NaN  1515406  \n",
            "mean        NaN  7.854406e+05      NaN  \n",
            "std         NaN  9.219080e+06      NaN  \n",
            "min         NaN -6.406200e+06      NaN  \n",
            "25%         NaN  0.000000e+00      NaN  \n",
            "50%         NaN  1.358000e+03      NaN  \n",
            "75%         NaN  3.991300e+04      NaN  \n",
            "max         NaN  7.530360e+08      NaN  \n"
          ]
        }
      ]
    },
    {
      "cell_type": "code",
      "source": [
        "import matplotlib.pyplot as plt\n",
        "import seaborn as sns\n",
        "\n",
        "# Set the style of seaborn for better visualizations\n",
        "sns.set(style=\"whitegrid\")\n",
        "\n",
        "# Generate histograms for numeric columns\n",
        "numeric_columns = df.select_dtypes(include=['int64', 'float64']).columns\n",
        "df[numeric_columns].hist(bins=20, figsize=(12, 6))\n",
        "plt.suptitle(\"Histograms of Numeric Columns\", y=1.02)\n",
        "plt.tight_layout()\n",
        "plt.show()\n",
        "\n",
        "\n"
      ],
      "metadata": {
        "colab": {
          "base_uri": "https://localhost:8080/",
          "height": 554
        },
        "id": "5KL50wwNEjBc",
        "outputId": "e9ff0118-21f5-468e-f8b1-13e43ec2f140"
      },
      "execution_count": null,
      "outputs": [
        {
          "output_type": "display_data",
          "data": {
            "text/plain": [
              "<Figure size 1200x600 with 6 Axes>"
            ],
            "image/png": "[encoded data removed]"
          },
          "metadata": {}
        }
      ]
    },
    {
      "cell_type": "code",
      "source": [
        "# Generate scatter plots for numeric columns\n",
        "scatter_columns = ['Year', 'Value']  # Replace with relevant column names\n",
        "sns.pairplot(df[scatter_columns])\n",
        "plt.suptitle(\"Scatter Plots of Year vs. Value\", y=1.02)\n",
        "plt.tight_layout()\n",
        "plt.show()\n"
      ],
      "metadata": {
        "id": "K9VCI-7pFX_K"
      },
      "execution_count": null,
      "outputs": []
    }
  ]
}