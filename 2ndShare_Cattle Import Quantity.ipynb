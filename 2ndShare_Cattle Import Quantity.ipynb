{
  "nbformat": 4,
  "nbformat_minor": 0,
  "metadata": {
    "colab": {
      "provenance": [],
      "authorship_tag": "ABX9TyMK6nFfOThGIJe/lD474X28",
      "include_colab_link": true
    },
    "kernelspec": {
      "name": "python3",
      "display_name": "Python 3"
    },
    "language_info": {
      "name": "python"
    }
  },
  "cells": [
    {
      "cell_type": "markdown",
      "metadata": {
        "id": "view-in-github",
        "colab_type": "text"
      },
      "source": [
        "<a href=\"https://colab.research.google.com/github/ZemelakGoraga/Data-Analytics-Capstone/blob/main/2ndShare_Cattle%20Import%20Quantity.ipynb\" target=\"_parent\"><img src=\"https://colab.research.google.com/assets/colab-badge.svg\" alt=\"Open In Colab\"/></a>"
      ]
    },
    {
      "cell_type": "markdown",
      "source": [
        "**Project Topic:** \"Unveiling Global Cattle Import Patterns: Insights from\n",
        "FAOSTAT's Dataset\""
      ],
      "metadata": {
        "id": "Vo3uKVKSkyRJ"
      }
    },
    {
      "cell_type": "markdown",
      "source": [
        "**Step 1. Understanding the Business Objective**"
      ],
      "metadata": {
        "id": "HwZ9qbb7IVRz"
      }
    },
    {
      "cell_type": "markdown",
      "source": [
        "**Business Objective:**\n",
        "\n",
        "To optimize cattle import strategies for different countries by analyzing historical data, identifying trends and anomalies, predicting future import quantities, and recommending prescriptive actions to maximize efficiency."
      ],
      "metadata": {
        "id": "zCaoD0VpQuv-"
      }
    },
    {
      "cell_type": "markdown",
      "source": [
        "**Step 2. Formulating business Questions:**"
      ],
      "metadata": {
        "id": "W7uY5ZltIgkk"
      }
    },
    {
      "cell_type": "markdown",
      "source": [
        "\n",
        "**Questions to address:**\n",
        "\n",
        "1. Descriptive Question:\n",
        "What is the trend in import quantity of cattle across different countries over the years?\n",
        "\n",
        "2. Diagnostic Question:\n",
        "Are there specific years or countries where there have been significant changes in cattle import quantity?\n",
        "\n",
        "3. Predictive Question:\n",
        "Can we predict the future import quantity of cattle for a specific country?\n",
        "\n",
        "4. Prescriptive Question:\n",
        "What strategies can be implemented to optimize cattle import quantities while considering different countries and years?"
      ],
      "metadata": {
        "id": "Jjm_ncPMg6y3"
      }
    },
    {
      "cell_type": "markdown",
      "source": [
        "**Step 3. Data Collection & inspection:**"
      ],
      "metadata": {
        "id": "pNpRJbeTIrga"
      }
    },
    {
      "cell_type": "code",
      "source": [
        "# Data Collection\n",
        "# Loading datasets from Kaggle\n",
        "from google.colab import files\n",
        "files.upload() # here the downloded kaggle.json file is imported"
      ],
      "metadata": {
        "colab": {
          "base_uri": "https://localhost:8080/",
          "height": 89
        },
        "id": "eu_R4GAIQ37B",
        "outputId": "b188d5b9-f72a-4611-9ecf-218ad59d32b6"
      },
      "execution_count": null,
      "outputs": [
        {
          "output_type": "display_data",
          "data": {
            "text/plain": [
              "<IPython.core.display.HTML object>"
            ],
            "text/html": [
              "\n",
              "     <input type=\"file\" id=\"files-90fb4665-d767-4bb0-a488-cfa88aa83eaf\" name=\"files[]\" multiple disabled\n",
              "        style=\"border:none\" />\n",
              "     <output id=\"result-90fb4665-d767-4bb0-a488-cfa88aa83eaf\">\n",
              "      Upload widget is only available when the cell has been executed in the\n",
              "      current browser session. Please rerun this cell to enable.\n",
              "      </output>\n",
              "      <script>// Copyright 2017 Google LLC\n",
              "//\n",
              "// Licensed under the Apache License, Version 2.0 (the \"License\");\n",
              "// you may not use this file except in compliance with the License.\n",
              "// You may obtain a copy of the License at\n",
              "//\n",
              "//      http://www.apache.org/licenses/LICENSE-2.0\n",
              "//\n",
              "// Unless required by applicable law or agreed to in writing, software\n",
              "// distributed under the License is distributed on an \"AS IS\" BASIS,\n",
              "// WITHOUT WARRANTIES OR CONDITIONS OF ANY KIND, either express or implied.\n",
              "// See the License for the specific language governing permissions and\n",
              "// limitations under the License.\n",
              "\n",
              "/**\n",
              " * @fileoverview Helpers for google.colab Python module.\n",
              " */\n",
              "(function(scope) {\n",
              "function span(text, styleAttributes = {}) {\n",
              "  const element = document.createElement('span');\n",
              "  element.textContent = text;\n",
              "  for (const key of Object.keys(styleAttributes)) {\n",
              "    element.style[key] = styleAttributes[key];\n",
              "  }\n",
              "  return element;\n",
              "}\n",
              "\n",
              "// Max number of bytes which will be uploaded at a time.\n",
              "const MAX_PAYLOAD_SIZE = 100 * 1024;\n",
              "\n",
              "function _uploadFiles(inputId, outputId) {\n",
              "  const steps = uploadFilesStep(inputId, outputId);\n",
              "  const outputElement = document.getElementById(outputId);\n",
              "  // Cache steps on the outputElement to make it available for the next call\n",
              "  // to uploadFilesContinue from Python.\n",
              "  outputElement.steps = steps;\n",
              "\n",
              "  return _uploadFilesContinue(outputId);\n",
              "}\n",
              "\n",
              "// This is roughly an async generator (not supported in the browser yet),\n",
              "// where there are multiple asynchronous steps and the Python side is going\n",
              "// to poll for completion of each step.\n",
              "// This uses a Promise to block the python side on completion of each step,\n",
              "// then passes the result of the previous step as the input to the next step.\n",
              "function _uploadFilesContinue(outputId) {\n",
              "  const outputElement = document.getElementById(outputId);\n",
              "  const steps = outputElement.steps;\n",
              "\n",
              "  const next = steps.next(outputElement.lastPromiseValue);\n",
              "  return Promise.resolve(next.value.promise).then((value) => {\n",
              "    // Cache the last promise value to make it available to the next\n",
              "    // step of the generator.\n",
              "    outputElement.lastPromiseValue = value;\n",
              "    return next.value.response;\n",
              "  });\n",
              "}\n",
              "\n",
              "/**\n",
              " * Generator function which is called between each async step of the upload\n",
              " * process.\n",
              " * @param {string} inputId Element ID of the input file picker element.\n",
              " * @param {string} outputId Element ID of the output display.\n",
              " * @return {!Iterable<!Object>} Iterable of next steps.\n",
              " */\n",
              "function* uploadFilesStep(inputId, outputId) {\n",
              "  const inputElement = document.getElementById(inputId);\n",
              "  inputElement.disabled = false;\n",
              "\n",
              "  const outputElement = document.getElementById(outputId);\n",
              "  outputElement.innerHTML = '';\n",
              "\n",
              "  const pickedPromise = new Promise((resolve) => {\n",
              "    inputElement.addEventListener('change', (e) => {\n",
              "      resolve(e.target.files);\n",
              "    });\n",
              "  });\n",
              "\n",
              "  const cancel = document.createElement('button');\n",
              "  inputElement.parentElement.appendChild(cancel);\n",
              "  cancel.textContent = 'Cancel upload';\n",
              "  const cancelPromise = new Promise((resolve) => {\n",
              "    cancel.onclick = () => {\n",
              "      resolve(null);\n",
              "    };\n",
              "  });\n",
              "\n",
              "  // Wait for the user to pick the files.\n",
              "  const files = yield {\n",
              "    promise: Promise.race([pickedPromise, cancelPromise]),\n",
              "    response: {\n",
              "      action: 'starting',\n",
              "    }\n",
              "  };\n",
              "\n",
              "  cancel.remove();\n",
              "\n",
              "  // Disable the input element since further picks are not allowed.\n",
              "  inputElement.disabled = true;\n",
              "\n",
              "  if (!files) {\n",
              "    return {\n",
              "      response: {\n",
              "        action: 'complete',\n",
              "      }\n",
              "    };\n",
              "  }\n",
              "\n",
              "  for (const file of files) {\n",
              "    const li = document.createElement('li');\n",
              "    li.append(span(file.name, {fontWeight: 'bold'}));\n",
              "    li.append(span(\n",
              "        `(${file.type || 'n/a'}) - ${file.size} bytes, ` +\n",
              "        `last modified: ${\n",
              "            file.lastModifiedDate ? file.lastModifiedDate.toLocaleDateString() :\n",
              "                                    'n/a'} - `));\n",
              "    const percent = span('0% done');\n",
              "    li.appendChild(percent);\n",
              "\n",
              "    outputElement.appendChild(li);\n",
              "\n",
              "    const fileDataPromise = new Promise((resolve) => {\n",
              "      const reader = new FileReader();\n",
              "      reader.onload = (e) => {\n",
              "        resolve(e.target.result);\n",
              "      };\n",
              "      reader.readAsArrayBuffer(file);\n",
              "    });\n",
              "    // Wait for the data to be ready.\n",
              "    let fileData = yield {\n",
              "      promise: fileDataPromise,\n",
              "      response: {\n",
              "        action: 'continue',\n",
              "      }\n",
              "    };\n",
              "\n",
              "    // Use a chunked sending to avoid message size limits. See b/62115660.\n",
              "    let position = 0;\n",
              "    do {\n",
              "      const length = Math.min(fileData.byteLength - position, MAX_PAYLOAD_SIZE);\n",
              "      const chunk = new Uint8Array(fileData, position, length);\n",
              "      position += length;\n",
              "\n",
              "      const base64 = btoa(String.fromCharCode.apply(null, chunk));\n",
              "      yield {\n",
              "        response: {\n",
              "          action: 'append',\n",
              "          file: file.name,\n",
              "          data: base64,\n",
              "        },\n",
              "      };\n",
              "\n",
              "      let percentDone = fileData.byteLength === 0 ?\n",
              "          100 :\n",
              "          Math.round((position / fileData.byteLength) * 100);\n",
              "      percent.textContent = `${percentDone}% done`;\n",
              "\n",
              "    } while (position < fileData.byteLength);\n",
              "  }\n",
              "\n",
              "  // All done.\n",
              "  yield {\n",
              "    response: {\n",
              "      action: 'complete',\n",
              "    }\n",
              "  };\n",
              "}\n",
              "\n",
              "scope.google = scope.google || {};\n",
              "scope.google.colab = scope.google.colab || {};\n",
              "scope.google.colab._files = {\n",
              "  _uploadFiles,\n",
              "  _uploadFilesContinue,\n",
              "};\n",
              "})(self);\n",
              "</script> "
            ]
          },
          "metadata": {}
        },
        {
          "output_type": "stream",
          "name": "stdout",
          "text": [
            "Saving kaggle.json to kaggle.json\n"
          ]
        },
        {
          "output_type": "execute_result",
          "data": {
            "text/plain": [
              "{'kaggle.json': b'{\"username\":\"zemelak\",\"key\":\"08c8054de361c9898298da09f2007bec\"}'}"
            ]
          },
          "metadata": {},
          "execution_count": 2
        }
      ]
    },
    {
      "cell_type": "code",
      "source": [
        "# Next\n",
        "# Let's make sure the kaggle.json file is present.\n",
        "!ls -lha kaggle.json\n",
        "\n",
        "\n",
        "# Next\n",
        "# Next, install the Kaggle API client.\n",
        "!pip install -q kaggle\n",
        "\n",
        "# Next\n",
        "# The Kaggle API client expects this file to be in ~/.kaggle,\n",
        "# so move it there.\n",
        "!mkdir -p ~/.kaggle\n",
        "!cp kaggle.json ~/.kaggle/\n",
        "\n",
        "# This permissions change avoids a warning on Kaggle tool startup.\n",
        "!chmod 600 ~/.kaggle/kaggle.json\n"
      ],
      "metadata": {
        "colab": {
          "base_uri": "https://localhost:8080/"
        },
        "id": "c5n5B5Cv21r-",
        "outputId": "857ea8a2-d8d0-441c-ef3c-dad5bcd58e71"
      },
      "execution_count": null,
      "outputs": [
        {
          "output_type": "stream",
          "name": "stdout",
          "text": [
            "-rw-r--r-- 1 root root 63 Aug 17 05:44 kaggle.json\n"
          ]
        }
      ]
    },
    {
      "cell_type": "code",
      "source": [
        "# Next\n",
        "\n",
        "# List the datasets\n",
        "# 'kaggle datasets download -d unitednations/global-food-agriculture-statistics' this is the specific database we want to download from kaggle. N.B it may have multiple datasets. check\n",
        "\n",
        "!kaggle datasets download -d unitednations/global-food-agriculture-statistics\n"
      ],
      "metadata": {
        "colab": {
          "base_uri": "https://localhost:8080/"
        },
        "id": "nt0gghHM3Bwt",
        "outputId": "f6b2c28a-6bd4-4eb5-e2f1-f802cc382c06"
      },
      "execution_count": null,
      "outputs": [
        {
          "output_type": "stream",
          "name": "stdout",
          "text": [
            "Downloading global-food-agriculture-statistics.zip to /content\n",
            " 98% 435M/444M [00:04<00:00, 70.9MB/s]\n",
            "100% 444M/444M [00:04<00:00, 97.9MB/s]\n"
          ]
        }
      ]
    },
    {
      "cell_type": "code",
      "source": [
        "# unzip the different data files\n",
        "# There are above 150 tables in the following zip file\n",
        "\n",
        "import zipfile\n",
        "\n",
        "# Specify the path to the downloaded ZIP file\n",
        "zip_file_path = \"/content/global-food-agriculture-statistics.zip\"\n",
        "\n",
        "# Create a ZipFile object\n",
        "with zipfile.ZipFile(zip_file_path, 'r') as zip_ref:\n",
        "    # Get the list of file paths within the ZIP archive\n",
        "    file_paths = zip_ref.namelist()\n",
        "\n",
        "# Print the list of file paths\n",
        "for path in file_paths:\n",
        "    print(path)\n"
      ],
      "metadata": {
        "colab": {
          "base_uri": "https://localhost:8080/"
        },
        "id": "gcV-iZrP3M_F",
        "outputId": "2b3bfea5-e8c9-4adf-fe7a-36557fdc0a84"
      },
      "execution_count": null,
      "outputs": [
        {
          "output_type": "stream",
          "name": "stdout",
          "text": [
            "current_FAO/__MACOSX/raw_files/._ASTI_Research_Spending_E_All_Data_(Norm).csv\n",
            "current_FAO/__MACOSX/raw_files/._ASTI_Researchers_E_All_Data_(Norm).csv\n",
            "current_FAO/__MACOSX/raw_files/._CommodityBalances_Crops_E_All_Data_(Normalized).csv\n",
            "current_FAO/__MACOSX/raw_files/._CommodityBalances_LivestockFish_E_All_Data_(Normalized).csv\n",
            "current_FAO/__MACOSX/raw_files/._ConsumerPriceIndices_E_All_Data_(Normalized).csv\n",
            "current_FAO/__MACOSX/raw_files/._Deflators_E_All_Data_(Normalized).csv\n",
            "current_FAO/__MACOSX/raw_files/._Emissions_Agriculture_Agriculture_total_E_All_Data_(Norm).csv\n",
            "current_FAO/__MACOSX/raw_files/._Emissions_Agriculture_Burning_Savanna_E_All_Data_(Norm).csv\n",
            "current_FAO/__MACOSX/raw_files/._Emissions_Agriculture_Burning_crop_residues_E_All_Data_(Norm).csv\n",
            "current_FAO/__MACOSX/raw_files/._Emissions_Agriculture_Crop_Residues_E_All_Data_(Norm).csv\n",
            "current_FAO/__MACOSX/raw_files/._Emissions_Agriculture_Cultivated_Organic_Soils_E_All_Data_(Norm).csv\n",
            "current_FAO/__MACOSX/raw_files/._Emissions_Agriculture_Energy_E_All_Data_(Norm).csv\n",
            "current_FAO/__MACOSX/raw_files/._Emissions_Agriculture_Enteric_Fermentation_E_All_Data_(Norm).csv\n",
            "current_FAO/__MACOSX/raw_files/._Emissions_Agriculture_Manure_Management_E_All_Data_(Norm).csv\n",
            "current_FAO/__MACOSX/raw_files/._Emissions_Agriculture_Manure_applied_to_soils_E_All_Data_(Norm).csv\n",
            "current_FAO/__MACOSX/raw_files/._Emissions_Agriculture_Manure_left_on_pasture_E_All_Data_(Norm).csv\n",
            "current_FAO/__MACOSX/raw_files/._Emissions_Agriculture_Rice_Cultivation_E_All_Data_(Norm).csv\n",
            "current_FAO/__MACOSX/raw_files/._Emissions_Agriculture_Synthetic_Fertilizers_E_All_Data_(Norm).csv\n",
            "current_FAO/__MACOSX/raw_files/._Emissions_Land_Use_Burning_Biomass_E_All_Data_(Norm).csv\n",
            "current_FAO/__MACOSX/raw_files/._Emissions_Land_Use_Cropland_E_All_Data_(Norm).csv\n",
            "current_FAO/__MACOSX/raw_files/._Emissions_Land_Use_Forest_Land_E_All_Data_(Norm).csv\n",
            "current_FAO/__MACOSX/raw_files/._Emissions_Land_Use_Grassland_E_All_Data_(Norm).csv\n",
            "current_FAO/__MACOSX/raw_files/._Emissions_Land_Use_Land_Use_Total_E_All_Data_(Norm).csv\n",
            "current_FAO/__MACOSX/raw_files/._Employment_Indicators_E_All_Data_(Norm).csv\n",
            "current_FAO/__MACOSX/raw_files/._Environment_AirClimateChange_E_All_Data.csv\n",
            "current_FAO/__MACOSX/raw_files/._Environment_Emissions_by_Sector_E_All_Data_(Normalized).csv\n",
            "current_FAO/__MACOSX/raw_files/._Environment_Emissions_intensities_E_All_Data_(Normalized).csv\n",
            "current_FAO/__MACOSX/raw_files/._Environment_Energy_E_All_Data.csv\n",
            "current_FAO/__MACOSX/raw_files/._Environment_Fertilizers_E_All_Data_(Normalized).csv\n",
            "current_FAO/__MACOSX/raw_files/._Environment_LandCover_E_All_Data_(Normalized).csv\n",
            "current_FAO/__MACOSX/raw_files/._Environment_LandUse_E_All_Data_(Normalized).csv\n",
            "current_FAO/__MACOSX/raw_files/._Environment_LivestockPatterns_E_All_Data_(Normalized).csv\n",
            "current_FAO/__MACOSX/raw_files/._Environment_Livestock_E_All_Data.csv\n",
            "current_FAO/__MACOSX/raw_files/._Environment_Pesticides_E_All_Data_(Normalized).csv\n",
            "current_FAO/__MACOSX/raw_files/._Environment_Soil_E_All_Data.csv\n",
            "current_FAO/__MACOSX/raw_files/._Environment_Temperature_change_E_All_Data_(Normalized).csv\n",
            "current_FAO/__MACOSX/raw_files/._Environment_Water_E_All_Data.csv\n",
            "current_FAO/__MACOSX/raw_files/._Exchange_rate_E_All_Data_(Normalized).csv\n",
            "current_FAO/__MACOSX/raw_files/._FoodSupply_Crops_E_All_Data_(Normalized).csv\n",
            "current_FAO/__MACOSX/raw_files/._FoodSupply_LivestockFish_E_All_Data_(Normalized).csv\n",
            "current_FAO/__MACOSX/raw_files/._Food_Aid_Shipments_WFP_E_All_Data_(Normalized).csv\n",
            "current_FAO/__MACOSX/raw_files/._Food_Security_Data_E_All_Data_(Normalized).csv\n",
            "current_FAO/__MACOSX/raw_files/._Forestry_E_All_Data_(Normalized).csv\n",
            "current_FAO/__MACOSX/raw_files/._Forestry_Trade_Flows_E_All_Data_(Normalized).csv\n",
            "current_FAO/__MACOSX/raw_files/._Indicators_from_Household_Surveys_E_All_Data_(Normalized).csv\n",
            "current_FAO/__MACOSX/raw_files/._Inputs_FertilizersTradeValues_E_All_Data_(Norm).csv\n",
            "current_FAO/__MACOSX/raw_files/._Inputs_Fertilizers_E_All_Data_(Normalized).csv\n",
            "current_FAO/__MACOSX/raw_files/._Inputs_Land_E_All_Data_(Normalized).csv\n",
            "current_FAO/__MACOSX/raw_files/._Inputs_Pesticides_Trade_E_All_Data_(Norm).csv\n",
            "current_FAO/__MACOSX/raw_files/._Inputs_Pesticides_Use_E_All_Data_(Normalized).csv\n",
            "current_FAO/__MACOSX/raw_files/._Investment_CapitalStock_E_All_Data_(Normalized).csv\n",
            "current_FAO/__MACOSX/raw_files/._Investment_CountryInvestmentStatisticsProfile__E_All_Data_(Normalized).csv\n",
            "current_FAO/__MACOSX/raw_files/._Investment_CreditAgriculture_E_All_Data_(Normalized).csv\n",
            "current_FAO/__MACOSX/raw_files/._Investment_ForeignDirectInvestment_E_All_Data_(Normalized).csv\n",
            "current_FAO/__MACOSX/raw_files/._Investment_GovernmentExpenditure_E_All_Data_(Normalized).csv\n",
            "current_FAO/__MACOSX/raw_files/._Investment_MachineryArchive_E_All_Data.csv\n",
            "current_FAO/__MACOSX/raw_files/._Investment_Machinery_E_All_Data.csv\n",
            "current_FAO/__MACOSX/raw_files/._Macro-Statistics_Key_Indicators_E_All_Data_(Normalized).csv\n",
            "current_FAO/__MACOSX/raw_files/._Population_E_All_Data_(Norm).csv\n",
            "current_FAO/__MACOSX/raw_files/._Population_E_All_Data_(Normalized).csv\n",
            "current_FAO/__MACOSX/raw_files/._Price_Indices_E_All_Data_(Normalized).csv\n",
            "current_FAO/__MACOSX/raw_files/._PricesArchive_E_All_Data.csv\n",
            "current_FAO/__MACOSX/raw_files/._Prices_E_All_Data_(Normalized).csv\n",
            "current_FAO/__MACOSX/raw_files/._Prices_Monthly_E_All_Data_(Normalized).csv\n",
            "current_FAO/__MACOSX/raw_files/._Production_CropsProcessed_E_All_Data_(Normalized).csv\n",
            "current_FAO/__MACOSX/raw_files/._Production_Crops_E_All_Data_(Normalized).csv\n",
            "current_FAO/__MACOSX/raw_files/._Production_Indices_E_All_Data_(Normalized).csv\n",
            "current_FAO/__MACOSX/raw_files/._Production_LivestockPrimary_E_All_Data_(Normalized).csv\n",
            "current_FAO/__MACOSX/raw_files/._Production_LivestockProcessed_E_All_Data_(Normalized).csv\n",
            "current_FAO/__MACOSX/raw_files/._Production_Livestock_E_All_Data_(Normalized).csv\n",
            "current_FAO/__MACOSX/raw_files/._Resources_FertilizersArchive_E_All_Data.csv\n",
            "current_FAO/__MACOSX/raw_files/._Trade_Crops_Livestock_E_All_Data_(Normalized).csv\n",
            "current_FAO/__MACOSX/raw_files/._Trade_Indices_E_All_Data_(Norm).csv\n",
            "current_FAO/__MACOSX/raw_files/._Trade_LiveAnimals_E_All_Data_(Normalized).csv\n",
            "current_FAO/__MACOSX/raw_files/._Value_of_Production_E_All_Data_(Normalized).csv\n",
            "current_FAO/raw_files/ASTI_Research_Spending_E_All_Data_(Norm).csv\n",
            "current_FAO/raw_files/ASTI_Researchers_E_All_Data_(Norm).csv\n",
            "current_FAO/raw_files/CommodityBalances_Crops_E_All_Data_(Normalized).csv\n",
            "current_FAO/raw_files/CommodityBalances_LivestockFish_E_All_Data_(Normalized).csv\n",
            "current_FAO/raw_files/ConsumerPriceIndices_E_All_Data_(Normalized).csv\n",
            "current_FAO/raw_files/Deflators_E_All_Data_(Normalized).csv\n",
            "current_FAO/raw_files/Emissions_Agriculture_Agriculture_total_E_All_Data_(Norm).csv\n",
            "current_FAO/raw_files/Emissions_Agriculture_Burning_Savanna_E_All_Data_(Norm).csv\n",
            "current_FAO/raw_files/Emissions_Agriculture_Burning_crop_residues_E_All_Data_(Norm).csv\n",
            "current_FAO/raw_files/Emissions_Agriculture_Crop_Residues_E_All_Data_(Norm).csv\n",
            "current_FAO/raw_files/Emissions_Agriculture_Cultivated_Organic_Soils_E_All_Data_(Norm).csv\n",
            "current_FAO/raw_files/Emissions_Agriculture_Energy_E_All_Data_(Norm).csv\n",
            "current_FAO/raw_files/Emissions_Agriculture_Enteric_Fermentation_E_All_Data_(Norm).csv\n",
            "current_FAO/raw_files/Emissions_Agriculture_Manure_Management_E_All_Data_(Norm).csv\n",
            "current_FAO/raw_files/Emissions_Agriculture_Manure_applied_to_soils_E_All_Data_(Norm).csv\n",
            "current_FAO/raw_files/Emissions_Agriculture_Manure_left_on_pasture_E_All_Data_(Norm).csv\n",
            "current_FAO/raw_files/Emissions_Agriculture_Rice_Cultivation_E_All_Data_(Norm).csv\n",
            "current_FAO/raw_files/Emissions_Agriculture_Synthetic_Fertilizers_E_All_Data_(Norm).csv\n",
            "current_FAO/raw_files/Emissions_Land_Use_Burning_Biomass_E_All_Data_(Norm).csv\n",
            "current_FAO/raw_files/Emissions_Land_Use_Cropland_E_All_Data_(Norm).csv\n",
            "current_FAO/raw_files/Emissions_Land_Use_Forest_Land_E_All_Data_(Norm).csv\n",
            "current_FAO/raw_files/Emissions_Land_Use_Grassland_E_All_Data_(Norm).csv\n",
            "current_FAO/raw_files/Emissions_Land_Use_Land_Use_Total_E_All_Data_(Norm).csv\n",
            "current_FAO/raw_files/Employment_Indicators_E_All_Data_(Norm).csv\n",
            "current_FAO/raw_files/Environment_AirClimateChange_E_All_Data.csv\n",
            "current_FAO/raw_files/Environment_Emissions_by_Sector_E_All_Data_(Normalized).csv\n",
            "current_FAO/raw_files/Environment_Emissions_intensities_E_All_Data_(Normalized).csv\n",
            "current_FAO/raw_files/Environment_Energy_E_All_Data.csv\n",
            "current_FAO/raw_files/Environment_Fertilizers_E_All_Data_(Normalized).csv\n",
            "current_FAO/raw_files/Environment_LandCover_E_All_Data_(Normalized).csv\n",
            "current_FAO/raw_files/Environment_LandUse_E_All_Data_(Normalized).csv\n",
            "current_FAO/raw_files/Environment_LivestockPatterns_E_All_Data_(Normalized).csv\n",
            "current_FAO/raw_files/Environment_Livestock_E_All_Data.csv\n",
            "current_FAO/raw_files/Environment_Pesticides_E_All_Data_(Normalized).csv\n",
            "current_FAO/raw_files/Environment_Soil_E_All_Data.csv\n",
            "current_FAO/raw_files/Environment_Temperature_change_E_All_Data_(Normalized).csv\n",
            "current_FAO/raw_files/Environment_Water_E_All_Data.csv\n",
            "current_FAO/raw_files/Exchange_rate_E_All_Data_(Normalized).csv\n",
            "current_FAO/raw_files/FoodSupply_Crops_E_All_Data_(Normalized).csv\n",
            "current_FAO/raw_files/FoodSupply_LivestockFish_E_All_Data_(Normalized).csv\n",
            "current_FAO/raw_files/Food_Aid_Shipments_WFP_E_All_Data_(Normalized).csv\n",
            "current_FAO/raw_files/Food_Security_Data_E_All_Data_(Normalized).csv\n",
            "current_FAO/raw_files/Forestry_E_All_Data_(Normalized).csv\n",
            "current_FAO/raw_files/Forestry_Trade_Flows_E_All_Data_(Normalized).csv\n",
            "current_FAO/raw_files/Indicators_from_Household_Surveys_E_All_Data_(Normalized).csv\n",
            "current_FAO/raw_files/Inputs_FertilizersTradeValues_E_All_Data_(Norm).csv\n",
            "current_FAO/raw_files/Inputs_Fertilizers_E_All_Data_(Normalized).csv\n",
            "current_FAO/raw_files/Inputs_Land_E_All_Data_(Normalized).csv\n",
            "current_FAO/raw_files/Inputs_Pesticides_Trade_E_All_Data_(Norm).csv\n",
            "current_FAO/raw_files/Inputs_Pesticides_Use_E_All_Data_(Normalized).csv\n",
            "current_FAO/raw_files/Investment_CapitalStock_E_All_Data_(Normalized).csv\n",
            "current_FAO/raw_files/Investment_CountryInvestmentStatisticsProfile__E_All_Data_(Normalized).csv\n",
            "current_FAO/raw_files/Investment_CreditAgriculture_E_All_Data_(Normalized).csv\n",
            "current_FAO/raw_files/Investment_ForeignDirectInvestment_E_All_Data_(Normalized).csv\n",
            "current_FAO/raw_files/Investment_GovernmentExpenditure_E_All_Data_(Normalized).csv\n",
            "current_FAO/raw_files/Investment_MachineryArchive_E_All_Data.csv\n",
            "current_FAO/raw_files/Investment_Machinery_E_All_Data.csv\n",
            "current_FAO/raw_files/Macro-Statistics_Key_Indicators_E_All_Data_(Normalized).csv\n",
            "current_FAO/raw_files/Population_E_All_Data_(Norm).csv\n",
            "current_FAO/raw_files/Population_E_All_Data_(Normalized).csv\n",
            "current_FAO/raw_files/Price_Indices_E_All_Data_(Normalized).csv\n",
            "current_FAO/raw_files/PricesArchive_E_All_Data.csv\n",
            "current_FAO/raw_files/Prices_E_All_Data_(Normalized).csv\n",
            "current_FAO/raw_files/Prices_Monthly_E_All_Data_(Normalized).csv\n",
            "current_FAO/raw_files/Production_CropsProcessed_E_All_Data_(Normalized).csv\n",
            "current_FAO/raw_files/Production_Crops_E_All_Data_(Normalized).csv\n",
            "current_FAO/raw_files/Production_Indices_E_All_Data_(Normalized).csv\n",
            "current_FAO/raw_files/Production_LivestockPrimary_E_All_Data_(Normalized).csv\n",
            "current_FAO/raw_files/Production_LivestockProcessed_E_All_Data_(Normalized).csv\n",
            "current_FAO/raw_files/Production_Livestock_E_All_Data_(Normalized).csv\n",
            "current_FAO/raw_files/Resources_FertilizersArchive_E_All_Data.csv\n",
            "current_FAO/raw_files/Trade_Crops_Livestock_E_All_Data_(Normalized).csv\n",
            "current_FAO/raw_files/Trade_Indices_E_All_Data_(Norm).csv\n",
            "current_FAO/raw_files/Trade_LiveAnimals_E_All_Data_(Normalized).csv\n",
            "current_FAO/raw_files/Value_of_Production_E_All_Data_(Normalized).csv\n",
            "fao_data_crops_data.csv\n",
            "fao_data_fertilizers_data.csv\n",
            "fao_data_forest_data.csv\n",
            "fao_data_land_data.csv\n",
            "fao_data_production_indices_data.csv\n"
          ]
        }
      ]
    },
    {
      "cell_type": "code",
      "source": [
        "# Download a specific table to work with\n",
        "# Here, I will download the following table, which contains imported live animals and products:\n",
        "#  Table to download: \"current_FAO/raw_files/Trade_LiveAnimals_E_All_Data_(Normalized).csv\", and save it as df\n",
        "# Display the first 5 rows of this dataset\n",
        "\n",
        "import pandas as pd\n",
        "from zipfile import ZipFile\n",
        "\n",
        "# Specify the CSV file to read from the ZIP archive\n",
        "csv_file_to_read = \"current_FAO/raw_files/Trade_LiveAnimals_E_All_Data_(Normalized).csv\"\n",
        "\n",
        "# Read the ZIP archive\n",
        "with ZipFile(\"/content/global-food-agriculture-statistics.zip\", 'r') as zip_file:\n",
        "    # List the files within the ZIP archive (to double-check paths)\n",
        "    print(zip_file.namelist())\n",
        "\n",
        "    # Read the CSV file from the ZIP archive with the specified encoding and delimiter\n",
        "    with zip_file.open(csv_file_to_read) as csv_file:\n",
        "        df = pd.read_csv(csv_file, encoding='ISO-8859-1')\n"
      ],
      "metadata": {
        "colab": {
          "base_uri": "https://localhost:8080/"
        },
        "id": "U5RG6qIq3P6B",
        "outputId": "44887c25-0cf4-43fd-99ee-fbc20f9c7a2f"
      },
      "execution_count": null,
      "outputs": [
        {
          "output_type": "stream",
          "name": "stdout",
          "text": [
            "['current_FAO/__MACOSX/raw_files/._ASTI_Research_Spending_E_All_Data_(Norm).csv', 'current_FAO/__MACOSX/raw_files/._ASTI_Researchers_E_All_Data_(Norm).csv', 'current_FAO/__MACOSX/raw_files/._CommodityBalances_Crops_E_All_Data_(Normalized).csv', 'current_FAO/__MACOSX/raw_files/._CommodityBalances_LivestockFish_E_All_Data_(Normalized).csv', 'current_FAO/__MACOSX/raw_files/._ConsumerPriceIndices_E_All_Data_(Normalized).csv', 'current_FAO/__MACOSX/raw_files/._Deflators_E_All_Data_(Normalized).csv', 'current_FAO/__MACOSX/raw_files/._Emissions_Agriculture_Agriculture_total_E_All_Data_(Norm).csv', 'current_FAO/__MACOSX/raw_files/._Emissions_Agriculture_Burning_Savanna_E_All_Data_(Norm).csv', 'current_FAO/__MACOSX/raw_files/._Emissions_Agriculture_Burning_crop_residues_E_All_Data_(Norm).csv', 'current_FAO/__MACOSX/raw_files/._Emissions_Agriculture_Crop_Residues_E_All_Data_(Norm).csv', 'current_FAO/__MACOSX/raw_files/._Emissions_Agriculture_Cultivated_Organic_Soils_E_All_Data_(Norm).csv', 'current_FAO/__MACOSX/raw_files/._Emissions_Agriculture_Energy_E_All_Data_(Norm).csv', 'current_FAO/__MACOSX/raw_files/._Emissions_Agriculture_Enteric_Fermentation_E_All_Data_(Norm).csv', 'current_FAO/__MACOSX/raw_files/._Emissions_Agriculture_Manure_Management_E_All_Data_(Norm).csv', 'current_FAO/__MACOSX/raw_files/._Emissions_Agriculture_Manure_applied_to_soils_E_All_Data_(Norm).csv', 'current_FAO/__MACOSX/raw_files/._Emissions_Agriculture_Manure_left_on_pasture_E_All_Data_(Norm).csv', 'current_FAO/__MACOSX/raw_files/._Emissions_Agriculture_Rice_Cultivation_E_All_Data_(Norm).csv', 'current_FAO/__MACOSX/raw_files/._Emissions_Agriculture_Synthetic_Fertilizers_E_All_Data_(Norm).csv', 'current_FAO/__MACOSX/raw_files/._Emissions_Land_Use_Burning_Biomass_E_All_Data_(Norm).csv', 'current_FAO/__MACOSX/raw_files/._Emissions_Land_Use_Cropland_E_All_Data_(Norm).csv', 'current_FAO/__MACOSX/raw_files/._Emissions_Land_Use_Forest_Land_E_All_Data_(Norm).csv', 'current_FAO/__MACOSX/raw_files/._Emissions_Land_Use_Grassland_E_All_Data_(Norm).csv', 'current_FAO/__MACOSX/raw_files/._Emissions_Land_Use_Land_Use_Total_E_All_Data_(Norm).csv', 'current_FAO/__MACOSX/raw_files/._Employment_Indicators_E_All_Data_(Norm).csv', 'current_FAO/__MACOSX/raw_files/._Environment_AirClimateChange_E_All_Data.csv', 'current_FAO/__MACOSX/raw_files/._Environment_Emissions_by_Sector_E_All_Data_(Normalized).csv', 'current_FAO/__MACOSX/raw_files/._Environment_Emissions_intensities_E_All_Data_(Normalized).csv', 'current_FAO/__MACOSX/raw_files/._Environment_Energy_E_All_Data.csv', 'current_FAO/__MACOSX/raw_files/._Environment_Fertilizers_E_All_Data_(Normalized).csv', 'current_FAO/__MACOSX/raw_files/._Environment_LandCover_E_All_Data_(Normalized).csv', 'current_FAO/__MACOSX/raw_files/._Environment_LandUse_E_All_Data_(Normalized).csv', 'current_FAO/__MACOSX/raw_files/._Environment_LivestockPatterns_E_All_Data_(Normalized).csv', 'current_FAO/__MACOSX/raw_files/._Environment_Livestock_E_All_Data.csv', 'current_FAO/__MACOSX/raw_files/._Environment_Pesticides_E_All_Data_(Normalized).csv', 'current_FAO/__MACOSX/raw_files/._Environment_Soil_E_All_Data.csv', 'current_FAO/__MACOSX/raw_files/._Environment_Temperature_change_E_All_Data_(Normalized).csv', 'current_FAO/__MACOSX/raw_files/._Environment_Water_E_All_Data.csv', 'current_FAO/__MACOSX/raw_files/._Exchange_rate_E_All_Data_(Normalized).csv', 'current_FAO/__MACOSX/raw_files/._FoodSupply_Crops_E_All_Data_(Normalized).csv', 'current_FAO/__MACOSX/raw_files/._FoodSupply_LivestockFish_E_All_Data_(Normalized).csv', 'current_FAO/__MACOSX/raw_files/._Food_Aid_Shipments_WFP_E_All_Data_(Normalized).csv', 'current_FAO/__MACOSX/raw_files/._Food_Security_Data_E_All_Data_(Normalized).csv', 'current_FAO/__MACOSX/raw_files/._Forestry_E_All_Data_(Normalized).csv', 'current_FAO/__MACOSX/raw_files/._Forestry_Trade_Flows_E_All_Data_(Normalized).csv', 'current_FAO/__MACOSX/raw_files/._Indicators_from_Household_Surveys_E_All_Data_(Normalized).csv', 'current_FAO/__MACOSX/raw_files/._Inputs_FertilizersTradeValues_E_All_Data_(Norm).csv', 'current_FAO/__MACOSX/raw_files/._Inputs_Fertilizers_E_All_Data_(Normalized).csv', 'current_FAO/__MACOSX/raw_files/._Inputs_Land_E_All_Data_(Normalized).csv', 'current_FAO/__MACOSX/raw_files/._Inputs_Pesticides_Trade_E_All_Data_(Norm).csv', 'current_FAO/__MACOSX/raw_files/._Inputs_Pesticides_Use_E_All_Data_(Normalized).csv', 'current_FAO/__MACOSX/raw_files/._Investment_CapitalStock_E_All_Data_(Normalized).csv', 'current_FAO/__MACOSX/raw_files/._Investment_CountryInvestmentStatisticsProfile__E_All_Data_(Normalized).csv', 'current_FAO/__MACOSX/raw_files/._Investment_CreditAgriculture_E_All_Data_(Normalized).csv', 'current_FAO/__MACOSX/raw_files/._Investment_ForeignDirectInvestment_E_All_Data_(Normalized).csv', 'current_FAO/__MACOSX/raw_files/._Investment_GovernmentExpenditure_E_All_Data_(Normalized).csv', 'current_FAO/__MACOSX/raw_files/._Investment_MachineryArchive_E_All_Data.csv', 'current_FAO/__MACOSX/raw_files/._Investment_Machinery_E_All_Data.csv', 'current_FAO/__MACOSX/raw_files/._Macro-Statistics_Key_Indicators_E_All_Data_(Normalized).csv', 'current_FAO/__MACOSX/raw_files/._Population_E_All_Data_(Norm).csv', 'current_FAO/__MACOSX/raw_files/._Population_E_All_Data_(Normalized).csv', 'current_FAO/__MACOSX/raw_files/._Price_Indices_E_All_Data_(Normalized).csv', 'current_FAO/__MACOSX/raw_files/._PricesArchive_E_All_Data.csv', 'current_FAO/__MACOSX/raw_files/._Prices_E_All_Data_(Normalized).csv', 'current_FAO/__MACOSX/raw_files/._Prices_Monthly_E_All_Data_(Normalized).csv', 'current_FAO/__MACOSX/raw_files/._Production_CropsProcessed_E_All_Data_(Normalized).csv', 'current_FAO/__MACOSX/raw_files/._Production_Crops_E_All_Data_(Normalized).csv', 'current_FAO/__MACOSX/raw_files/._Production_Indices_E_All_Data_(Normalized).csv', 'current_FAO/__MACOSX/raw_files/._Production_LivestockPrimary_E_All_Data_(Normalized).csv', 'current_FAO/__MACOSX/raw_files/._Production_LivestockProcessed_E_All_Data_(Normalized).csv', 'current_FAO/__MACOSX/raw_files/._Production_Livestock_E_All_Data_(Normalized).csv', 'current_FAO/__MACOSX/raw_files/._Resources_FertilizersArchive_E_All_Data.csv', 'current_FAO/__MACOSX/raw_files/._Trade_Crops_Livestock_E_All_Data_(Normalized).csv', 'current_FAO/__MACOSX/raw_files/._Trade_Indices_E_All_Data_(Norm).csv', 'current_FAO/__MACOSX/raw_files/._Trade_LiveAnimals_E_All_Data_(Normalized).csv', 'current_FAO/__MACOSX/raw_files/._Value_of_Production_E_All_Data_(Normalized).csv', 'current_FAO/raw_files/ASTI_Research_Spending_E_All_Data_(Norm).csv', 'current_FAO/raw_files/ASTI_Researchers_E_All_Data_(Norm).csv', 'current_FAO/raw_files/CommodityBalances_Crops_E_All_Data_(Normalized).csv', 'current_FAO/raw_files/CommodityBalances_LivestockFish_E_All_Data_(Normalized).csv', 'current_FAO/raw_files/ConsumerPriceIndices_E_All_Data_(Normalized).csv', 'current_FAO/raw_files/Deflators_E_All_Data_(Normalized).csv', 'current_FAO/raw_files/Emissions_Agriculture_Agriculture_total_E_All_Data_(Norm).csv', 'current_FAO/raw_files/Emissions_Agriculture_Burning_Savanna_E_All_Data_(Norm).csv', 'current_FAO/raw_files/Emissions_Agriculture_Burning_crop_residues_E_All_Data_(Norm).csv', 'current_FAO/raw_files/Emissions_Agriculture_Crop_Residues_E_All_Data_(Norm).csv', 'current_FAO/raw_files/Emissions_Agriculture_Cultivated_Organic_Soils_E_All_Data_(Norm).csv', 'current_FAO/raw_files/Emissions_Agriculture_Energy_E_All_Data_(Norm).csv', 'current_FAO/raw_files/Emissions_Agriculture_Enteric_Fermentation_E_All_Data_(Norm).csv', 'current_FAO/raw_files/Emissions_Agriculture_Manure_Management_E_All_Data_(Norm).csv', 'current_FAO/raw_files/Emissions_Agriculture_Manure_applied_to_soils_E_All_Data_(Norm).csv', 'current_FAO/raw_files/Emissions_Agriculture_Manure_left_on_pasture_E_All_Data_(Norm).csv', 'current_FAO/raw_files/Emissions_Agriculture_Rice_Cultivation_E_All_Data_(Norm).csv', 'current_FAO/raw_files/Emissions_Agriculture_Synthetic_Fertilizers_E_All_Data_(Norm).csv', 'current_FAO/raw_files/Emissions_Land_Use_Burning_Biomass_E_All_Data_(Norm).csv', 'current_FAO/raw_files/Emissions_Land_Use_Cropland_E_All_Data_(Norm).csv', 'current_FAO/raw_files/Emissions_Land_Use_Forest_Land_E_All_Data_(Norm).csv', 'current_FAO/raw_files/Emissions_Land_Use_Grassland_E_All_Data_(Norm).csv', 'current_FAO/raw_files/Emissions_Land_Use_Land_Use_Total_E_All_Data_(Norm).csv', 'current_FAO/raw_files/Employment_Indicators_E_All_Data_(Norm).csv', 'current_FAO/raw_files/Environment_AirClimateChange_E_All_Data.csv', 'current_FAO/raw_files/Environment_Emissions_by_Sector_E_All_Data_(Normalized).csv', 'current_FAO/raw_files/Environment_Emissions_intensities_E_All_Data_(Normalized).csv', 'current_FAO/raw_files/Environment_Energy_E_All_Data.csv', 'current_FAO/raw_files/Environment_Fertilizers_E_All_Data_(Normalized).csv', 'current_FAO/raw_files/Environment_LandCover_E_All_Data_(Normalized).csv', 'current_FAO/raw_files/Environment_LandUse_E_All_Data_(Normalized).csv', 'current_FAO/raw_files/Environment_LivestockPatterns_E_All_Data_(Normalized).csv', 'current_FAO/raw_files/Environment_Livestock_E_All_Data.csv', 'current_FAO/raw_files/Environment_Pesticides_E_All_Data_(Normalized).csv', 'current_FAO/raw_files/Environment_Soil_E_All_Data.csv', 'current_FAO/raw_files/Environment_Temperature_change_E_All_Data_(Normalized).csv', 'current_FAO/raw_files/Environment_Water_E_All_Data.csv', 'current_FAO/raw_files/Exchange_rate_E_All_Data_(Normalized).csv', 'current_FAO/raw_files/FoodSupply_Crops_E_All_Data_(Normalized).csv', 'current_FAO/raw_files/FoodSupply_LivestockFish_E_All_Data_(Normalized).csv', 'current_FAO/raw_files/Food_Aid_Shipments_WFP_E_All_Data_(Normalized).csv', 'current_FAO/raw_files/Food_Security_Data_E_All_Data_(Normalized).csv', 'current_FAO/raw_files/Forestry_E_All_Data_(Normalized).csv', 'current_FAO/raw_files/Forestry_Trade_Flows_E_All_Data_(Normalized).csv', 'current_FAO/raw_files/Indicators_from_Household_Surveys_E_All_Data_(Normalized).csv', 'current_FAO/raw_files/Inputs_FertilizersTradeValues_E_All_Data_(Norm).csv', 'current_FAO/raw_files/Inputs_Fertilizers_E_All_Data_(Normalized).csv', 'current_FAO/raw_files/Inputs_Land_E_All_Data_(Normalized).csv', 'current_FAO/raw_files/Inputs_Pesticides_Trade_E_All_Data_(Norm).csv', 'current_FAO/raw_files/Inputs_Pesticides_Use_E_All_Data_(Normalized).csv', 'current_FAO/raw_files/Investment_CapitalStock_E_All_Data_(Normalized).csv', 'current_FAO/raw_files/Investment_CountryInvestmentStatisticsProfile__E_All_Data_(Normalized).csv', 'current_FAO/raw_files/Investment_CreditAgriculture_E_All_Data_(Normalized).csv', 'current_FAO/raw_files/Investment_ForeignDirectInvestment_E_All_Data_(Normalized).csv', 'current_FAO/raw_files/Investment_GovernmentExpenditure_E_All_Data_(Normalized).csv', 'current_FAO/raw_files/Investment_MachineryArchive_E_All_Data.csv', 'current_FAO/raw_files/Investment_Machinery_E_All_Data.csv', 'current_FAO/raw_files/Macro-Statistics_Key_Indicators_E_All_Data_(Normalized).csv', 'current_FAO/raw_files/Population_E_All_Data_(Norm).csv', 'current_FAO/raw_files/Population_E_All_Data_(Normalized).csv', 'current_FAO/raw_files/Price_Indices_E_All_Data_(Normalized).csv', 'current_FAO/raw_files/PricesArchive_E_All_Data.csv', 'current_FAO/raw_files/Prices_E_All_Data_(Normalized).csv', 'current_FAO/raw_files/Prices_Monthly_E_All_Data_(Normalized).csv', 'current_FAO/raw_files/Production_CropsProcessed_E_All_Data_(Normalized).csv', 'current_FAO/raw_files/Production_Crops_E_All_Data_(Normalized).csv', 'current_FAO/raw_files/Production_Indices_E_All_Data_(Normalized).csv', 'current_FAO/raw_files/Production_LivestockPrimary_E_All_Data_(Normalized).csv', 'current_FAO/raw_files/Production_LivestockProcessed_E_All_Data_(Normalized).csv', 'current_FAO/raw_files/Production_Livestock_E_All_Data_(Normalized).csv', 'current_FAO/raw_files/Resources_FertilizersArchive_E_All_Data.csv', 'current_FAO/raw_files/Trade_Crops_Livestock_E_All_Data_(Normalized).csv', 'current_FAO/raw_files/Trade_Indices_E_All_Data_(Norm).csv', 'current_FAO/raw_files/Trade_LiveAnimals_E_All_Data_(Normalized).csv', 'current_FAO/raw_files/Value_of_Production_E_All_Data_(Normalized).csv', 'fao_data_crops_data.csv', 'fao_data_fertilizers_data.csv', 'fao_data_forest_data.csv', 'fao_data_land_data.csv', 'fao_data_production_indices_data.csv']\n"
          ]
        }
      ]
    },
    {
      "cell_type": "code",
      "source": [
        "# Viewing Data: display the first 5 rows of the df dataset\n",
        "\n",
        "print(df.head())\n"
      ],
      "metadata": {
        "id": "J4vZa0MwJGdD",
        "outputId": "b366b6b9-a10b-4671-9473-ae9b39513628",
        "colab": {
          "base_uri": "https://localhost:8080/"
        }
      },
      "execution_count": null,
      "outputs": [
        {
          "output_type": "stream",
          "name": "stdout",
          "text": [
            "   Area Code         Area  Item Code    Item  Element Code          Element  \\\n",
            "0          2  Afghanistan        866  Cattle          5608  Import Quantity   \n",
            "1          2  Afghanistan        866  Cattle          5608  Import Quantity   \n",
            "2          2  Afghanistan        866  Cattle          5608  Import Quantity   \n",
            "3          2  Afghanistan        866  Cattle          5608  Import Quantity   \n",
            "4          2  Afghanistan        866  Cattle          5608  Import Quantity   \n",
            "\n",
            "   Year Code  Year  Unit  Value Flag  \n",
            "0       1961  1961  Head    NaN    M  \n",
            "1       1962  1962  Head    NaN    M  \n",
            "2       1963  1963  Head    NaN    M  \n",
            "3       1964  1964  Head    NaN    M  \n",
            "4       1965  1965  Head    NaN    M  \n"
          ]
        }
      ]
    },
    {
      "cell_type": "code",
      "source": [
        "# Display the last 5 rows of the df dataset\n",
        "\n",
        "print(df.tail())"
      ],
      "metadata": {
        "colab": {
          "base_uri": "https://localhost:8080/"
        },
        "id": "npc9HgSR8G3Z",
        "outputId": "f96da270-c8da-4b93-a902-34e8197ecc45"
      },
      "execution_count": null,
      "outputs": [
        {
          "output_type": "stream",
          "name": "stdout",
          "text": [
            "        Area Code                                     Area  Item Code  \\\n",
            "662953       5817  Net Food Importing Developing Countries       1922   \n",
            "662954       5817  Net Food Importing Developing Countries       1922   \n",
            "662955       5817  Net Food Importing Developing Countries       1922   \n",
            "662956       5817  Net Food Importing Developing Countries       1922   \n",
            "662957       5817  Net Food Importing Developing Countries       1922   \n",
            "\n",
            "                   Item  Element Code       Element  Year Code  Year  \\\n",
            "662953  Sheep and Goats          5922  Export Value       2009  2009   \n",
            "662954  Sheep and Goats          5922  Export Value       2010  2010   \n",
            "662955  Sheep and Goats          5922  Export Value       2011  2011   \n",
            "662956  Sheep and Goats          5922  Export Value       2012  2012   \n",
            "662957  Sheep and Goats          5922  Export Value       2013  2013   \n",
            "\n",
            "            Unit      Value Flag  \n",
            "662953  1000 US$   456293.0    A  \n",
            "662954  1000 US$   421311.0    A  \n",
            "662955  1000 US$   649321.0    A  \n",
            "662956  1000 US$   778317.0    A  \n",
            "662957  1000 US$  1038636.0    A  \n"
          ]
        }
      ]
    },
    {
      "cell_type": "code",
      "source": [
        "#Understanding the Structure\n",
        "# Get the number of rows and columns : the data set has 662958 rows and 11 columns\n",
        "num_rows, num_cols = df.shape\n",
        "print(f\"\\nNumber of rows: {num_rows}\")\n",
        "print(f\"Number of columns: {num_cols}\")\n"
      ],
      "metadata": {
        "colab": {
          "base_uri": "https://localhost:8080/"
        },
        "id": "uXb2bCWM-4dj",
        "outputId": "228e52d3-2dca-41b1-f8be-429d8bb6928c"
      },
      "execution_count": null,
      "outputs": [
        {
          "output_type": "stream",
          "name": "stdout",
          "text": [
            "\n",
            "Number of rows: 662958\n",
            "Number of columns: 11\n"
          ]
        }
      ]
    },
    {
      "cell_type": "code",
      "source": [
        "# Display column names\n",
        "print(\"\\nColumn names:\")\n",
        "print(df.columns)\n"
      ],
      "metadata": {
        "id": "Bpyh9QawZLbB",
        "outputId": "788c1008-0438-4a9a-8f40-4d7dde71f417",
        "colab": {
          "base_uri": "https://localhost:8080/"
        }
      },
      "execution_count": null,
      "outputs": [
        {
          "output_type": "stream",
          "name": "stdout",
          "text": [
            "\n",
            "Column names:\n",
            "Index(['Area Code', 'Area', 'Item Code', 'Item', 'Element Code', 'Element',\n",
            "       'Year Code', 'Year', 'Unit', 'Value', 'Flag'],\n",
            "      dtype='object')\n"
          ]
        }
      ]
    },
    {
      "cell_type": "code",
      "source": [
        "# Display data types of columns\n",
        "print(\"Data types of columns:\")\n",
        "print(df.dtypes)"
      ],
      "metadata": {
        "colab": {
          "base_uri": "https://localhost:8080/"
        },
        "id": "J0AbMbL3TfuI",
        "outputId": "919010c0-b321-41ac-b680-6118f49828ff"
      },
      "execution_count": null,
      "outputs": [
        {
          "output_type": "stream",
          "name": "stdout",
          "text": [
            "Data types of columns:\n",
            "Area Code         int64\n",
            "Area             object\n",
            "Item Code         int64\n",
            "Item             object\n",
            "Element Code      int64\n",
            "Element          object\n",
            "Year Code         int64\n",
            "Year              int64\n",
            "Unit             object\n",
            "Value           float64\n",
            "Flag             object\n",
            "dtype: object\n"
          ]
        }
      ]
    },
    {
      "cell_type": "code",
      "source": [
        "# Display unique values count for categorical columns\n",
        "categorical_columns = df.select_dtypes(include=['object']).columns\n",
        "print(\"\\nPotential Data Quality Issues (Categorical Columns):\")\n",
        "for column in categorical_columns:\n",
        "    unique_values_count = df[column].nunique()\n",
        "    print(f\"{column}: {unique_values_count} unique values\")\n"
      ],
      "metadata": {
        "colab": {
          "base_uri": "https://localhost:8080/"
        },
        "id": "mDBlSZXOTzfP",
        "outputId": "1acd8321-ab85-4db0-9223-c06f6fc30a2c"
      },
      "execution_count": null,
      "outputs": [
        {
          "output_type": "stream",
          "name": "stdout",
          "text": [
            "\n",
            "Potential Data Quality Issues (Categorical Columns):\n",
            "Area: 252 unique values\n",
            "Item: 25 unique values\n",
            "Element: 4 unique values\n",
            "Unit: 4 unique values\n",
            "Flag: 5 unique values\n"
          ]
        }
      ]
    },
    {
      "cell_type": "code",
      "source": [],
      "metadata": {
        "id": "p4ixr6XFcHdK"
      },
      "execution_count": null,
      "outputs": []
    },
    {
      "cell_type": "code",
      "source": [
        "# Viewing unique values within each column\n",
        "\n",
        "unique_areas = df['Area'].unique()\n",
        "\n",
        "unique_items = df['Item'].unique()\n",
        "\n",
        "unique_elements = df['Element'].unique()\n",
        "\n",
        "unique_flags = df['Flag'].unique()\n",
        "\n",
        "unique_years = df['Year'].unique()\n",
        "\n",
        "print(\"Unique Areas:\", unique_areas)\n",
        "\n",
        "print(\"Unique Items:\", unique_items)\n",
        "\n",
        "print(\"Unique Elements:\", unique_elements)\n",
        "\n",
        "print(\"Unique Flags:\", unique_flags)\n",
        "\n",
        "print(\"Year:\", unique_years)\n"
      ],
      "metadata": {
        "colab": {
          "base_uri": "https://localhost:8080/"
        },
        "id": "8BwJf-3BBS-X",
        "outputId": "b0183350-2cda-427d-cff6-e3d24e530220"
      },
      "execution_count": null,
      "outputs": [
        {
          "output_type": "stream",
          "name": "stdout",
          "text": [
            "Unique Areas: ['Afghanistan' 'Albania' 'Algeria' 'American Samoa' 'Angola'\n",
            " 'Antigua and Barbuda' 'Argentina' 'Armenia' 'Aruba' 'Australia' 'Austria'\n",
            " 'Azerbaijan' 'Bahamas' 'Bahrain' 'Bangladesh' 'Barbados' 'Belarus'\n",
            " 'Belgium' 'Belgium-Luxembourg' 'Belize' 'Benin' 'Bermuda' 'Bhutan'\n",
            " 'Bolivia (Plurinational State of)' 'Bosnia and Herzegovina' 'Botswana'\n",
            " 'Brazil' 'British Virgin Islands' 'Brunei Darussalam' 'Bulgaria'\n",
            " 'Burkina Faso' 'Burundi' 'Cabo Verde' 'Cambodia' 'Cameroon' 'Canada'\n",
            " 'Cayman Islands' 'Central African Republic' 'Chad' 'Chile' 'China'\n",
            " 'China, Hong Kong SAR' 'China, Macao SAR' 'China, mainland'\n",
            " 'China, Taiwan Province of' 'Colombia' 'Comoros' 'Congo' 'Cook Islands'\n",
            " 'Costa Rica' \"Côte d'Ivoire\" 'Croatia' 'Cuba' 'Cyprus' 'Czechia'\n",
            " 'Czechoslovakia' \"Democratic People's Republic of Korea\"\n",
            " 'Democratic Republic of the Congo' 'Denmark' 'Djibouti' 'Dominica'\n",
            " 'Dominican Republic' 'Ecuador' 'Egypt' 'El Salvador' 'Equatorial Guinea'\n",
            " 'Eritrea' 'Estonia' 'Ethiopia' 'Ethiopia PDR'\n",
            " 'Falkland Islands (Malvinas)' 'Faroe Islands' 'Fiji' 'Finland' 'France'\n",
            " 'French Polynesia' 'Gabon' 'Gambia' 'Georgia' 'Germany' 'Ghana' 'Greece'\n",
            " 'Grenada' 'Guam' 'Guatemala' 'Guinea' 'Guinea-Bissau' 'Guyana' 'Haiti'\n",
            " 'Honduras' 'Hungary' 'Iceland' 'India' 'Indonesia'\n",
            " 'Iran (Islamic Republic of)' 'Iraq' 'Ireland' 'Israel' 'Italy' 'Jamaica'\n",
            " 'Japan' 'Jordan' 'Kazakhstan' 'Kenya' 'Kiribati' 'Kuwait' 'Kyrgyzstan'\n",
            " \"Lao People's Democratic Republic\" 'Latvia' 'Lebanon' 'Lesotho' 'Liberia'\n",
            " 'Libya' 'Lithuania' 'Luxembourg' 'Madagascar' 'Malawi' 'Malaysia'\n",
            " 'Maldives' 'Mali' 'Malta' 'Mauritania' 'Mauritius' 'Mexico' 'Mongolia'\n",
            " 'Montenegro' 'Morocco' 'Mozambique' 'Myanmar' 'Namibia' 'Nauru' 'Nepal'\n",
            " 'Netherlands' 'Netherlands Antilles (former)' 'New Caledonia'\n",
            " 'New Zealand' 'Nicaragua' 'Niger' 'Nigeria' 'Niue' 'Norfolk Island'\n",
            " 'Norway' 'Occupied Palestinian Territory' 'Oman'\n",
            " 'Pacific Islands Trust Territory' 'Pakistan' 'Panama' 'Papua New Guinea'\n",
            " 'Paraguay' 'Peru' 'Philippines' 'Poland' 'Portugal' 'Qatar'\n",
            " 'Republic of Korea' 'Republic of Moldova' 'Romania' 'Russian Federation'\n",
            " 'Rwanda' 'Saint Kitts and Nevis' 'Saint Lucia'\n",
            " 'Saint Pierre and Miquelon' 'Saint Vincent and the Grenadines' 'Samoa'\n",
            " 'Sao Tome and Principe' 'Saudi Arabia' 'Senegal' 'Serbia'\n",
            " 'Serbia and Montenegro' 'Seychelles' 'Sierra Leone' 'Singapore'\n",
            " 'Slovakia' 'Slovenia' 'Solomon Islands' 'Somalia' 'South Africa' 'Spain'\n",
            " 'Sri Lanka' 'Sudan' 'Sudan (former)' 'Suriname' 'Swaziland' 'Sweden'\n",
            " 'Switzerland' 'Syrian Arab Republic' 'Tajikistan' 'Thailand'\n",
            " 'The former Yugoslav Republic of Macedonia' 'Timor-Leste' 'Togo' 'Tonga'\n",
            " 'Trinidad and Tobago' 'Tunisia' 'Turkey' 'Turkmenistan' 'Tuvalu' 'Uganda'\n",
            " 'Ukraine' 'United Arab Emirates' 'United Kingdom'\n",
            " 'United Republic of Tanzania' 'United States of America' 'Uruguay' 'USSR'\n",
            " 'Uzbekistan' 'Vanuatu' 'Venezuela (Bolivarian Republic of)' 'Viet Nam'\n",
            " 'Yemen' 'Yugoslav SFR' 'Zambia' 'Zimbabwe' 'EU(12)ex.int' 'EU(15)ex.int'\n",
            " 'EU(25)ex.int' 'EU(27)ex.int' 'European Union (exc intra-trade)' 'World'\n",
            " 'Africa' 'Eastern Africa' 'Middle Africa' 'Northern Africa'\n",
            " 'Southern Africa' 'Western Africa' 'Americas' 'Northern America'\n",
            " 'Central America' 'Caribbean' 'South America' 'Asia' 'Central Asia'\n",
            " 'Eastern Asia' 'Southern Asia' 'South-Eastern Asia' 'Western Asia'\n",
            " 'Europe' 'Eastern Europe' 'Northern Europe' 'Southern Europe'\n",
            " 'Western Europe' 'Oceania' 'Australia & New Zealand' 'Melanesia'\n",
            " 'Micronesia' 'Polynesia' 'European Union' 'Least Developed Countries'\n",
            " 'Land Locked Developing Countries' 'Small Island Developing States'\n",
            " 'Low Income Food Deficit Countries'\n",
            " 'Net Food Importing Developing Countries']\n",
            "Unique Items: ['Cattle' 'Chickens' 'Horses' 'Total Merchandise Trade'\n",
            " 'Agricult.Products,Total' 'Bovine, Animals' 'Food Excl Fish'\n",
            " 'Live Animals' 'Pigeons, other birds' 'Animals live nes'\n",
            " 'Animals, live, non-food' 'Asses' 'Beehives' 'Buffaloes' 'Ducks' 'Goats'\n",
            " 'Mules' 'Pigs' 'Sheep' 'Turkeys' 'Sheep and Goats' 'Camels'\n",
            " 'Rabbits and hares' 'Camelids, other' 'Rodents, other']\n",
            "Unique Elements: ['Import Quantity' 'Import Value' 'Export Quantity' 'Export Value']\n",
            "Unique Flags: ['M' 'R' 'F' '*' nan 'A']\n",
            "Year: [1961 1962 1963 1964 1965 1966 1967 1968 1969 1970 1971 1972 1973 1974\n",
            " 1975 1976 1977 1978 1979 1980 1981 1982 1983 1984 1985 1986 1987 1988\n",
            " 1989 1990 1991 1992 1993 1994 1995 1996 1997 1998 1999 2000 2001 2002\n",
            " 2003 2004 2005 2006 2007 2008 2009 2010 2011 2012 2013]\n"
          ]
        }
      ]
    },
    {
      "cell_type": "code",
      "source": [
        "# As we can see above, 'Elements' column contains these 4 unique values: ['Import Quantity' 'Import Value' 'Export Quantity' 'Export Value']\n",
        "# However, I am interested in analyzing the ' Import Quantity' values\n",
        "# Similarly, the 'Item' column contains 25 unique values (live animals and products including cattle), but I am interested in live cattle import quantity\n",
        "# So, I need to filter the df dataset where 'Item' == 'Cattle' and 'Element' == 'Cattle' as shown below:\n",
        "# Furthermore, only ['Area', 'Item', 'Element', 'Year', 'Unit', 'Value'] columns are required for the analysis\n",
        "# First, let us filter the df dataset by 'Element' == 'Import Quantity' and save it as 'df_imported_quantity.csv'\n",
        "\n",
        "selected_columns = ['Area', 'Item', 'Element', 'Year', 'Unit', 'Value']\n",
        "df_import_quantity = df[df['Element'] == 'Import Quantity'][selected_columns]\n",
        "\n",
        "print(\"Selected Data:\")\n",
        "print(df_import_quantity)\n",
        "\n",
        "# Save as df_import_quantity.csv\n",
        "df_import_quantity.to_csv('df_import_quantity.csv', index=False)\n",
        "\n",
        "# Display the first five rows of df_import_quantity\n",
        "print(df_import_quantity.head())"
      ],
      "metadata": {
        "colab": {
          "base_uri": "https://localhost:8080/"
        },
        "id": "JWBfbX0mYGyh",
        "outputId": "c4b067a8-9b88-4f25-bee0-f17527020388"
      },
      "execution_count": null,
      "outputs": [
        {
          "output_type": "stream",
          "name": "stdout",
          "text": [
            "Selected Data:\n",
            "                                           Area             Item  \\\n",
            "0                                   Afghanistan           Cattle   \n",
            "1                                   Afghanistan           Cattle   \n",
            "2                                   Afghanistan           Cattle   \n",
            "3                                   Afghanistan           Cattle   \n",
            "4                                   Afghanistan           Cattle   \n",
            "...                                         ...              ...   \n",
            "662794  Net Food Importing Developing Countries  Sheep and Goats   \n",
            "662795  Net Food Importing Developing Countries  Sheep and Goats   \n",
            "662796  Net Food Importing Developing Countries  Sheep and Goats   \n",
            "662797  Net Food Importing Developing Countries  Sheep and Goats   \n",
            "662798  Net Food Importing Developing Countries  Sheep and Goats   \n",
            "\n",
            "                Element  Year  Unit      Value  \n",
            "0       Import Quantity  1961  Head        NaN  \n",
            "1       Import Quantity  1962  Head        NaN  \n",
            "2       Import Quantity  1963  Head        NaN  \n",
            "3       Import Quantity  1964  Head        NaN  \n",
            "4       Import Quantity  1965  Head        NaN  \n",
            "...                 ...   ...   ...        ...  \n",
            "662794  Import Quantity  2009  Head  2443476.0  \n",
            "662795  Import Quantity  2010  Head  2885658.0  \n",
            "662796  Import Quantity  2011  Head  2702259.0  \n",
            "662797  Import Quantity  2012  Head  3301420.0  \n",
            "662798  Import Quantity  2013  Head  2998137.0  \n",
            "\n",
            "[147865 rows x 6 columns]\n",
            "          Area    Item          Element  Year  Unit  Value\n",
            "0  Afghanistan  Cattle  Import Quantity  1961  Head    NaN\n",
            "1  Afghanistan  Cattle  Import Quantity  1962  Head    NaN\n",
            "2  Afghanistan  Cattle  Import Quantity  1963  Head    NaN\n",
            "3  Afghanistan  Cattle  Import Quantity  1964  Head    NaN\n",
            "4  Afghanistan  Cattle  Import Quantity  1965  Head    NaN\n"
          ]
        }
      ]
    },
    {
      "cell_type": "code",
      "source": [
        "# Display the last five rows of df_import_quantity\n",
        "print(df_import_quantity.tail())\n"
      ],
      "metadata": {
        "id": "3TyAlNFt3W04",
        "outputId": "3bfd1642-99fb-422c-8362-36be0945d668",
        "colab": {
          "base_uri": "https://localhost:8080/"
        }
      },
      "execution_count": null,
      "outputs": [
        {
          "output_type": "stream",
          "name": "stdout",
          "text": [
            "                                           Area             Item  \\\n",
            "662794  Net Food Importing Developing Countries  Sheep and Goats   \n",
            "662795  Net Food Importing Developing Countries  Sheep and Goats   \n",
            "662796  Net Food Importing Developing Countries  Sheep and Goats   \n",
            "662797  Net Food Importing Developing Countries  Sheep and Goats   \n",
            "662798  Net Food Importing Developing Countries  Sheep and Goats   \n",
            "\n",
            "                Element  Year  Unit      Value  \n",
            "662794  Import Quantity  2009  Head  2443476.0  \n",
            "662795  Import Quantity  2010  Head  2885658.0  \n",
            "662796  Import Quantity  2011  Head  2702259.0  \n",
            "662797  Import Quantity  2012  Head  3301420.0  \n",
            "662798  Import Quantity  2013  Head  2998137.0  \n"
          ]
        }
      ]
    },
    {
      "cell_type": "code",
      "source": [
        "# Let us check if the column ' Element' in the df1 dataset contains only one unique value which is 'import_quantity'\n",
        "unique_elements = df_import_quantity['Element'].unique()\n",
        "print(\"Unique Elements:\", unique_elements)"
      ],
      "metadata": {
        "colab": {
          "base_uri": "https://localhost:8080/"
        },
        "id": "3yUN5COFiFet",
        "outputId": "791a74ce-92fe-431e-faa3-496ce7992672"
      },
      "execution_count": null,
      "outputs": [
        {
          "output_type": "stream",
          "name": "stdout",
          "text": [
            "Unique Elements: ['Import Quantity']\n"
          ]
        }
      ]
    },
    {
      "cell_type": "code",
      "source": [
        "# So, next the 'df_import_quantity' dataset is filtered by column 'Item' === Cattle\n",
        "# Save the filtered dataset as 'df_import_quantity_cattle'\n",
        "\n",
        "selected_columns = ['Area', 'Item', 'Element', 'Year', 'Unit', 'Value']\n",
        "df_import_quantity_cattle = df_import_quantity[df_import_quantity['Item'] == 'Cattle'][selected_columns]\n",
        "\n",
        "print(\"Selected Data:\")\n",
        "print(df_import_quantity_cattle)\n",
        "\n",
        "# Save as cattle.csv\n",
        "df_import_quantity_cattle.to_csv('df_import_quantity_cattle.csv', index=False)\n",
        "\n",
        "# Display the first few rows of df_import_quantity_cattle\n",
        "print(df_import_quantity_cattle.head())"
      ],
      "metadata": {
        "colab": {
          "base_uri": "https://localhost:8080/"
        },
        "id": "V7Bvhv0rlUwF",
        "outputId": "9842561c-c2e3-4925-ebb7-e26134ac7735"
      },
      "execution_count": null,
      "outputs": [
        {
          "output_type": "stream",
          "name": "stdout",
          "text": [
            "Selected Data:\n",
            "                                           Area    Item          Element  \\\n",
            "0                                   Afghanistan  Cattle  Import Quantity   \n",
            "1                                   Afghanistan  Cattle  Import Quantity   \n",
            "2                                   Afghanistan  Cattle  Import Quantity   \n",
            "3                                   Afghanistan  Cattle  Import Quantity   \n",
            "4                                   Afghanistan  Cattle  Import Quantity   \n",
            "...                                         ...     ...              ...   \n",
            "660038  Net Food Importing Developing Countries  Cattle  Import Quantity   \n",
            "660039  Net Food Importing Developing Countries  Cattle  Import Quantity   \n",
            "660040  Net Food Importing Developing Countries  Cattle  Import Quantity   \n",
            "660041  Net Food Importing Developing Countries  Cattle  Import Quantity   \n",
            "660042  Net Food Importing Developing Countries  Cattle  Import Quantity   \n",
            "\n",
            "        Year  Unit      Value  \n",
            "0       1961  Head        NaN  \n",
            "1       1962  Head        NaN  \n",
            "2       1963  Head        NaN  \n",
            "3       1964  Head        NaN  \n",
            "4       1965  Head        NaN  \n",
            "...      ...   ...        ...  \n",
            "660038  2009  Head  1113191.0  \n",
            "660039  2010  Head  1599145.0  \n",
            "660040  2011  Head  1311693.0  \n",
            "660041  2012  Head  1649940.0  \n",
            "660042  2013  Head  2217707.0  \n",
            "\n",
            "[11280 rows x 6 columns]\n",
            "          Area    Item          Element  Year  Unit  Value\n",
            "0  Afghanistan  Cattle  Import Quantity  1961  Head    NaN\n",
            "1  Afghanistan  Cattle  Import Quantity  1962  Head    NaN\n",
            "2  Afghanistan  Cattle  Import Quantity  1963  Head    NaN\n",
            "3  Afghanistan  Cattle  Import Quantity  1964  Head    NaN\n",
            "4  Afghanistan  Cattle  Import Quantity  1965  Head    NaN\n"
          ]
        }
      ]
    },
    {
      "cell_type": "code",
      "source": [
        "# Display the last few rows of df_import_quantity_cattle\n",
        "print(df_import_quantity_cattle.tail())"
      ],
      "metadata": {
        "colab": {
          "base_uri": "https://localhost:8080/"
        },
        "id": "59WotRp_m5hI",
        "outputId": "d4df5a23-b3f3-4013-f970-354ca9ae88a5"
      },
      "execution_count": null,
      "outputs": [
        {
          "output_type": "stream",
          "name": "stdout",
          "text": [
            "                                           Area    Item          Element  \\\n",
            "660038  Net Food Importing Developing Countries  Cattle  Import Quantity   \n",
            "660039  Net Food Importing Developing Countries  Cattle  Import Quantity   \n",
            "660040  Net Food Importing Developing Countries  Cattle  Import Quantity   \n",
            "660041  Net Food Importing Developing Countries  Cattle  Import Quantity   \n",
            "660042  Net Food Importing Developing Countries  Cattle  Import Quantity   \n",
            "\n",
            "        Year  Unit      Value  \n",
            "660038  2009  Head  1113191.0  \n",
            "660039  2010  Head  1599145.0  \n",
            "660040  2011  Head  1311693.0  \n",
            "660041  2012  Head  1649940.0  \n",
            "660042  2013  Head  2217707.0  \n"
          ]
        }
      ]
    },
    {
      "cell_type": "code",
      "source": [
        "# So, this will be the dataset to be used for final analysis after the cleaning and further data processing steps\n",
        "# the data set has 11280 rows and 6 columns\n",
        "df_import_quantity_cattle.shape"
      ],
      "metadata": {
        "colab": {
          "base_uri": "https://localhost:8080/"
        },
        "id": "YR9HpK8onAwi",
        "outputId": "ef82e06d-f660-4778-b3bf-c2423bebb5dc"
      },
      "execution_count": null,
      "outputs": [
        {
          "output_type": "execute_result",
          "data": {
            "text/plain": [
              "(11280, 6)"
            ]
          },
          "metadata": {},
          "execution_count": 80
        }
      ]
    },
    {
      "cell_type": "code",
      "source": [
        "# for the sake of simplicity, the 'df_import_quantity_cattle' dataset was saved as df1 as follows:\n",
        "\n",
        "\n",
        "# Assuming df_import_quantity_cattle exists\n",
        "df1 = df_import_quantity_cattle.copy()  # Make a copy of the DataFrame if you want to save it as df1\n",
        "\n",
        "# Save the DataFrame as a CSV file\n",
        "df1.to_csv('df1.csv', index=False)  # Index=False prevents saving the row indices"
      ],
      "metadata": {
        "id": "ow_zcFZb7iIG"
      },
      "execution_count": null,
      "outputs": []
    },
    {
      "cell_type": "code",
      "source": [
        "# check if the df1 dataset is the same as the 'df_import_quantity_cattle' as follows\n",
        "# So, use df1 for the remaining data processing and analysis steps\n",
        "df1.shape"
      ],
      "metadata": {
        "id": "toJ1L8I88YUg",
        "outputId": "68e805ec-d939-4753-d21d-fee54fd08f86",
        "colab": {
          "base_uri": "https://localhost:8080/"
        }
      },
      "execution_count": null,
      "outputs": [
        {
          "output_type": "execute_result",
          "data": {
            "text/plain": [
              "(11280, 6)"
            ]
          },
          "metadata": {},
          "execution_count": 82
        }
      ]
    },
    {
      "cell_type": "markdown",
      "source": [
        "**Step 4. Data Cleaning:**"
      ],
      "metadata": {
        "id": "SNgKY-d2JhYN"
      }
    },
    {
      "cell_type": "code",
      "source": [
        "# Check for missing values in each column\n",
        "missing_values = df1.isnull().sum()\n",
        "print(\"\\nMissing Values:\")\n",
        "print(missing_values)\n"
      ],
      "metadata": {
        "colab": {
          "base_uri": "https://localhost:8080/"
        },
        "id": "s8EOdb8RJgOf",
        "outputId": "04a272f2-225f-4e2d-e847-cfedaafee01e"
      },
      "execution_count": null,
      "outputs": [
        {
          "output_type": "stream",
          "name": "stdout",
          "text": [
            "\n",
            "Missing Values:\n",
            "Area         0\n",
            "Item         0\n",
            "Element      0\n",
            "Year         0\n",
            "Unit         0\n",
            "Value      686\n",
            "dtype: int64\n"
          ]
        }
      ]
    },
    {
      "cell_type": "code",
      "source": [
        "\n",
        "# Display potential data quality issues (min-max range) for numerical columns\n",
        "numerical_columns = df1.select_dtypes(include=['int64', 'float64']).columns\n",
        "print(\"\\nPotential Data Quality Issues (Numerical Columns):\")\n",
        "for column in numerical_columns:\n",
        "    column_range = df1[column].max() - df1[column].min()\n",
        "    print(f\"{column}: Range = {column_range}\")"
      ],
      "metadata": {
        "colab": {
          "base_uri": "https://localhost:8080/"
        },
        "id": "B_kolMkkTz21",
        "outputId": "c6fe6a76-730b-4b3b-d7ee-ca48541e8ddc"
      },
      "execution_count": null,
      "outputs": [
        {
          "output_type": "stream",
          "name": "stdout",
          "text": [
            "\n",
            "Potential Data Quality Issues (Numerical Columns):\n",
            "Year: Range = 52\n",
            "Value: Range = 11022746.0\n"
          ]
        }
      ]
    },
    {
      "cell_type": "code",
      "source": [
        "# Impute missing values\n",
        "# Impute missing values with mean for numerical columns\n",
        "numerical_columns = df1.select_dtypes(include=['int64', 'float64']).columns\n",
        "df1[numerical_columns] = df1[numerical_columns].fillna(df1[numerical_columns].mean())"
      ],
      "metadata": {
        "id": "B3Orafh1bKYF"
      },
      "execution_count": null,
      "outputs": []
    },
    {
      "cell_type": "code",
      "source": [
        "# check missing values were replaced by the 'mean' values\n",
        "# Check for missing values in each column\n",
        "missing_values = df1.isnull().sum()\n",
        "print(\"\\nMissing Values:\")\n",
        "print(missing_values)"
      ],
      "metadata": {
        "colab": {
          "base_uri": "https://localhost:8080/"
        },
        "id": "-cvNyCSaVIbr",
        "outputId": "55f78cee-7e8f-4bc0-f0d9-819c14321f08"
      },
      "execution_count": null,
      "outputs": [
        {
          "output_type": "stream",
          "name": "stdout",
          "text": [
            "\n",
            "Missing Values:\n",
            "Area       0\n",
            "Item       0\n",
            "Element    0\n",
            "Year       0\n",
            "Unit       0\n",
            "Value      0\n",
            "dtype: int64\n"
          ]
        }
      ]
    },
    {
      "cell_type": "code",
      "source": [
        "# Removing Duplicates: Check for and remove duplicate rows using df.duplicated() and df.drop_duplicates().\n",
        "df1.duplicated()"
      ],
      "metadata": {
        "id": "UBniwYls894M",
        "outputId": "6ed2c8de-4576-4a89-de4a-a39a11f82aeb",
        "colab": {
          "base_uri": "https://localhost:8080/"
        }
      },
      "execution_count": null,
      "outputs": [
        {
          "output_type": "execute_result",
          "data": {
            "text/plain": [
              "0         False\n",
              "1         False\n",
              "2         False\n",
              "3         False\n",
              "4         False\n",
              "          ...  \n",
              "660038    False\n",
              "660039    False\n",
              "660040    False\n",
              "660041    False\n",
              "660042    False\n",
              "Length: 11280, dtype: bool"
            ]
          },
          "metadata": {},
          "execution_count": 87
        }
      ]
    },
    {
      "cell_type": "code",
      "source": [
        "df1.drop_duplicates()"
      ],
      "metadata": {
        "id": "2yTxh7fT-LK8",
        "outputId": "1498eb00-e319-4e2a-8ae2-969f3b5d38d8",
        "colab": {
          "base_uri": "https://localhost:8080/",
          "height": 423
        }
      },
      "execution_count": null,
      "outputs": [
        {
          "output_type": "execute_result",
          "data": {
            "text/plain": [
              "                                           Area    Item          Element  \\\n",
              "0                                   Afghanistan  Cattle  Import Quantity   \n",
              "1                                   Afghanistan  Cattle  Import Quantity   \n",
              "2                                   Afghanistan  Cattle  Import Quantity   \n",
              "3                                   Afghanistan  Cattle  Import Quantity   \n",
              "4                                   Afghanistan  Cattle  Import Quantity   \n",
              "...                                         ...     ...              ...   \n",
              "660038  Net Food Importing Developing Countries  Cattle  Import Quantity   \n",
              "660039  Net Food Importing Developing Countries  Cattle  Import Quantity   \n",
              "660040  Net Food Importing Developing Countries  Cattle  Import Quantity   \n",
              "660041  Net Food Importing Developing Countries  Cattle  Import Quantity   \n",
              "660042  Net Food Importing Developing Countries  Cattle  Import Quantity   \n",
              "\n",
              "        Year  Unit         Value  \n",
              "0       1961  Head  1.829629e+05  \n",
              "1       1962  Head  1.829629e+05  \n",
              "2       1963  Head  1.829629e+05  \n",
              "3       1964  Head  1.829629e+05  \n",
              "4       1965  Head  1.829629e+05  \n",
              "...      ...   ...           ...  \n",
              "660038  2009  Head  1.113191e+06  \n",
              "660039  2010  Head  1.599145e+06  \n",
              "660040  2011  Head  1.311693e+06  \n",
              "660041  2012  Head  1.649940e+06  \n",
              "660042  2013  Head  2.217707e+06  \n",
              "\n",
              "[11280 rows x 6 columns]"
            ],
            "text/html": [
              "\n",
              "\n",
              "  <div id=\"df-11672e57-ee6d-4beb-9612-0e98a29a8848\">\n",
              "    <div class=\"colab-df-container\">\n",
              "      <div>\n",
              "<style scoped>\n",
              "    .dataframe tbody tr th:only-of-type {\n",
              "        vertical-align: middle;\n",
              "    }\n",
              "\n",
              "    .dataframe tbody tr th {\n",
              "        vertical-align: top;\n",
              "    }\n",
              "\n",
              "    .dataframe thead th {\n",
              "        text-align: right;\n",
              "    }\n",
              "</style>\n",
              "<table border=\"1\" class=\"dataframe\">\n",
              "  <thead>\n",
              "    <tr style=\"text-align: right;\">\n",
              "      <th></th>\n",
              "      <th>Area</th>\n",
              "      <th>Item</th>\n",
              "      <th>Element</th>\n",
              "      <th>Year</th>\n",
              "      <th>Unit</th>\n",
              "      <th>Value</th>\n",
              "    </tr>\n",
              "  </thead>\n",
              "  <tbody>\n",
              "    <tr>\n",
              "      <th>0</th>\n",
              "      <td>Afghanistan</td>\n",
              "      <td>Cattle</td>\n",
              "      <td>Import Quantity</td>\n",
              "      <td>1961</td>\n",
              "      <td>Head</td>\n",
              "      <td>1.829629e+05</td>\n",
              "    </tr>\n",
              "    <tr>\n",
              "      <th>1</th>\n",
              "      <td>Afghanistan</td>\n",
              "      <td>Cattle</td>\n",
              "      <td>Import Quantity</td>\n",
              "      <td>1962</td>\n",
              "      <td>Head</td>\n",
              "      <td>1.829629e+05</td>\n",
              "    </tr>\n",
              "    <tr>\n",
              "      <th>2</th>\n",
              "      <td>Afghanistan</td>\n",
              "      <td>Cattle</td>\n",
              "      <td>Import Quantity</td>\n",
              "      <td>1963</td>\n",
              "      <td>Head</td>\n",
              "      <td>1.829629e+05</td>\n",
              "    </tr>\n",
              "    <tr>\n",
              "      <th>3</th>\n",
              "      <td>Afghanistan</td>\n",
              "      <td>Cattle</td>\n",
              "      <td>Import Quantity</td>\n",
              "      <td>1964</td>\n",
              "      <td>Head</td>\n",
              "      <td>1.829629e+05</td>\n",
              "    </tr>\n",
              "    <tr>\n",
              "      <th>4</th>\n",
              "      <td>Afghanistan</td>\n",
              "      <td>Cattle</td>\n",
              "      <td>Import Quantity</td>\n",
              "      <td>1965</td>\n",
              "      <td>Head</td>\n",
              "      <td>1.829629e+05</td>\n",
              "    </tr>\n",
              "    <tr>\n",
              "      <th>...</th>\n",
              "      <td>...</td>\n",
              "      <td>...</td>\n",
              "      <td>...</td>\n",
              "      <td>...</td>\n",
              "      <td>...</td>\n",
              "      <td>...</td>\n",
              "    </tr>\n",
              "    <tr>\n",
              "      <th>660038</th>\n",
              "      <td>Net Food Importing Developing Countries</td>\n",
              "      <td>Cattle</td>\n",
              "      <td>Import Quantity</td>\n",
              "      <td>2009</td>\n",
              "      <td>Head</td>\n",
              "      <td>1.113191e+06</td>\n",
              "    </tr>\n",
              "    <tr>\n",
              "      <th>660039</th>\n",
              "      <td>Net Food Importing Developing Countries</td>\n",
              "      <td>Cattle</td>\n",
              "      <td>Import Quantity</td>\n",
              "      <td>2010</td>\n",
              "      <td>Head</td>\n",
              "      <td>1.599145e+06</td>\n",
              "    </tr>\n",
              "    <tr>\n",
              "      <th>660040</th>\n",
              "      <td>Net Food Importing Developing Countries</td>\n",
              "      <td>Cattle</td>\n",
              "      <td>Import Quantity</td>\n",
              "      <td>2011</td>\n",
              "      <td>Head</td>\n",
              "      <td>1.311693e+06</td>\n",
              "    </tr>\n",
              "    <tr>\n",
              "      <th>660041</th>\n",
              "      <td>Net Food Importing Developing Countries</td>\n",
              "      <td>Cattle</td>\n",
              "      <td>Import Quantity</td>\n",
              "      <td>2012</td>\n",
              "      <td>Head</td>\n",
              "      <td>1.649940e+06</td>\n",
              "    </tr>\n",
              "    <tr>\n",
              "      <th>660042</th>\n",
              "      <td>Net Food Importing Developing Countries</td>\n",
              "      <td>Cattle</td>\n",
              "      <td>Import Quantity</td>\n",
              "      <td>2013</td>\n",
              "      <td>Head</td>\n",
              "      <td>2.217707e+06</td>\n",
              "    </tr>\n",
              "  </tbody>\n",
              "</table>\n",
              "<p>11280 rows × 6 columns</p>\n",
              "</div>\n",
              "      <button class=\"colab-df-convert\" onclick=\"convertToInteractive('df-11672e57-ee6d-4beb-9612-0e98a29a8848')\"\n",
              "              title=\"Convert this dataframe to an interactive table.\"\n",
              "              style=\"display:none;\">\n",
              "\n",
              "  <svg xmlns=\"http://www.w3.org/2000/svg\" height=\"24px\"viewBox=\"0 0 24 24\"\n",
              "       width=\"24px\">\n",
              "    <path d=\"M0 0h24v24H0V0z\" fill=\"none\"/>\n",
              "    <path d=\"M18.56 5.44l.94 2.06.94-2.06 2.06-.94-2.06-.94-.94-2.06-.94 2.06-2.06.94zm-11 1L8.5 8.5l.94-2.06 2.06-.94-2.06-.94L8.5 2.5l-.94 2.06-2.06.94zm10 10l.94 2.06.94-2.06 2.06-.94-2.06-.94-.94-2.06-.94 2.06-2.06.94z\"/><path d=\"M17.41 7.96l-1.37-1.37c-.4-.4-.92-.59-1.43-.59-.52 0-1.04.2-1.43.59L10.3 9.45l-7.72 7.72c-.78.78-.78 2.05 0 2.83L4 21.41c.39.39.9.59 1.41.59.51 0 1.02-.2 1.41-.59l7.78-7.78 2.81-2.81c.8-.78.8-2.07 0-2.86zM5.41 20L4 18.59l7.72-7.72 1.47 1.35L5.41 20z\"/>\n",
              "  </svg>\n",
              "      </button>\n",
              "\n",
              "\n",
              "\n",
              "    <div id=\"df-b7f2f6f9-50af-404d-b4c9-b9b91f2eae7f\">\n",
              "      <button class=\"colab-df-quickchart\" onclick=\"quickchart('df-b7f2f6f9-50af-404d-b4c9-b9b91f2eae7f')\"\n",
              "              title=\"Suggest charts.\"\n",
              "              style=\"display:none;\">\n",
              "\n",
              "<svg xmlns=\"http://www.w3.org/2000/svg\" height=\"24px\"viewBox=\"0 0 24 24\"\n",
              "     width=\"24px\">\n",
              "    <g>\n",
              "        <path d=\"M19 3H5c-1.1 0-2 .9-2 2v14c0 1.1.9 2 2 2h14c1.1 0 2-.9 2-2V5c0-1.1-.9-2-2-2zM9 17H7v-7h2v7zm4 0h-2V7h2v10zm4 0h-2v-4h2v4z\"/>\n",
              "    </g>\n",
              "</svg>\n",
              "      </button>\n",
              "    </div>\n",
              "\n",
              "<style>\n",
              "  .colab-df-quickchart {\n",
              "    background-color: #E8F0FE;\n",
              "    border: none;\n",
              "    border-radius: 50%;\n",
              "    cursor: pointer;\n",
              "    display: none;\n",
              "    fill: #1967D2;\n",
              "    height: 32px;\n",
              "    padding: 0 0 0 0;\n",
              "    width: 32px;\n",
              "  }\n",
              "\n",
              "  .colab-df-quickchart:hover {\n",
              "    background-color: #E2EBFA;\n",
              "    box-shadow: 0px 1px 2px rgba(60, 64, 67, 0.3), 0px 1px 3px 1px rgba(60, 64, 67, 0.15);\n",
              "    fill: #174EA6;\n",
              "  }\n",
              "\n",
              "  [theme=dark] .colab-df-quickchart {\n",
              "    background-color: #3B4455;\n",
              "    fill: #D2E3FC;\n",
              "  }\n",
              "\n",
              "  [theme=dark] .colab-df-quickchart:hover {\n",
              "    background-color: #434B5C;\n",
              "    box-shadow: 0px 1px 3px 1px rgba(0, 0, 0, 0.15);\n",
              "    filter: drop-shadow(0px 1px 2px rgba(0, 0, 0, 0.3));\n",
              "    fill: #FFFFFF;\n",
              "  }\n",
              "</style>\n",
              "\n",
              "    <script>\n",
              "      async function quickchart(key) {\n",
              "        const containerElement = document.querySelector('#' + key);\n",
              "        const charts = await google.colab.kernel.invokeFunction(\n",
              "            'suggestCharts', [key], {});\n",
              "      }\n",
              "    </script>\n",
              "\n",
              "\n",
              "      <script>\n",
              "\n",
              "function displayQuickchartButton(domScope) {\n",
              "  let quickchartButtonEl =\n",
              "    domScope.querySelector('#df-b7f2f6f9-50af-404d-b4c9-b9b91f2eae7f button.colab-df-quickchart');\n",
              "  quickchartButtonEl.style.display =\n",
              "    google.colab.kernel.accessAllowed ? 'block' : 'none';\n",
              "}\n",
              "\n",
              "        displayQuickchartButton(document);\n",
              "      </script>\n",
              "      <style>\n",
              "    .colab-df-container {\n",
              "      display:flex;\n",
              "      flex-wrap:wrap;\n",
              "      gap: 12px;\n",
              "    }\n",
              "\n",
              "    .colab-df-convert {\n",
              "      background-color: #E8F0FE;\n",
              "      border: none;\n",
              "      border-radius: 50%;\n",
              "      cursor: pointer;\n",
              "      display: none;\n",
              "      fill: #1967D2;\n",
              "      height: 32px;\n",
              "      padding: 0 0 0 0;\n",
              "      width: 32px;\n",
              "    }\n",
              "\n",
              "    .colab-df-convert:hover {\n",
              "      background-color: #E2EBFA;\n",
              "      box-shadow: 0px 1px 2px rgba(60, 64, 67, 0.3), 0px 1px 3px 1px rgba(60, 64, 67, 0.15);\n",
              "      fill: #174EA6;\n",
              "    }\n",
              "\n",
              "    [theme=dark] .colab-df-convert {\n",
              "      background-color: #3B4455;\n",
              "      fill: #D2E3FC;\n",
              "    }\n",
              "\n",
              "    [theme=dark] .colab-df-convert:hover {\n",
              "      background-color: #434B5C;\n",
              "      box-shadow: 0px 1px 3px 1px rgba(0, 0, 0, 0.15);\n",
              "      filter: drop-shadow(0px 1px 2px rgba(0, 0, 0, 0.3));\n",
              "      fill: #FFFFFF;\n",
              "    }\n",
              "  </style>\n",
              "\n",
              "      <script>\n",
              "        const buttonEl =\n",
              "          document.querySelector('#df-11672e57-ee6d-4beb-9612-0e98a29a8848 button.colab-df-convert');\n",
              "        buttonEl.style.display =\n",
              "          google.colab.kernel.accessAllowed ? 'block' : 'none';\n",
              "\n",
              "        async function convertToInteractive(key) {\n",
              "          const element = document.querySelector('#df-11672e57-ee6d-4beb-9612-0e98a29a8848');\n",
              "          const dataTable =\n",
              "            await google.colab.kernel.invokeFunction('convertToInteractive',\n",
              "                                                     [key], {});\n",
              "          if (!dataTable) return;\n",
              "\n",
              "          const docLinkHtml = 'Like what you see? Visit the ' +\n",
              "            '<a target=\"_blank\" href=https://colab.research.google.com/notebooks/data_table.ipynb>data table notebook</a>'\n",
              "            + ' to learn more about interactive tables.';\n",
              "          element.innerHTML = '';\n",
              "          dataTable['output_type'] = 'display_data';\n",
              "          await google.colab.output.renderOutput(dataTable, element);\n",
              "          const docLink = document.createElement('div');\n",
              "          docLink.innerHTML = docLinkHtml;\n",
              "          element.appendChild(docLink);\n",
              "        }\n",
              "      </script>\n",
              "    </div>\n",
              "  </div>\n"
            ]
          },
          "metadata": {},
          "execution_count": 88
        }
      ]
    },
    {
      "cell_type": "code",
      "source": [
        "# Outliers: Identify and handle outliers by using visualization tools or statistical methods.\n",
        "# Detect data outliers and anomalies: Box Plots: Outliers appear as individual data points outside the whiskers.\n",
        "#The 'Value' Column represents number of heads of imported live cattle, actual value for each row is = Value * 1000\n",
        "\n",
        "import matplotlib.pyplot as plt\n",
        "import seaborn as sns\n",
        "\n",
        "\n",
        "# Box plot for a specific column\n",
        "plt.figure(figsize=(8, 6))\n",
        "sns.boxplot(x=df1['Value']*1000)\n",
        "plt.title('Box Plot of Column')\n",
        "plt.show()\n",
        "\n",
        "\n"
      ],
      "metadata": {
        "colab": {
          "base_uri": "https://localhost:8080/",
          "height": 564
        },
        "id": "QTmGLgYvD5NH",
        "outputId": "cde9974c-b46e-43c4-d673-bd248c3515b3"
      },
      "execution_count": null,
      "outputs": [
        {
          "output_type": "display_data",
          "data": {
            "text/plain": [
              "<Figure size 800x600 with 1 Axes>"
            ],
            "image/png": "[encoded data removed]"
          },
          "metadata": {}
        }
      ]
    },
    {
      "cell_type": "markdown",
      "source": [
        "**Step 5. Data Transformation:**"
      ],
      "metadata": {
        "id": "B17YfsnQLLLC"
      }
    },
    {
      "cell_type": "code",
      "source": [
        "# Address data outliers and anomalies using appropriate techniques.\n",
        "# Apply log transformation\n",
        "\n",
        "import pandas as pd\n",
        "import numpy as np\n",
        "\n",
        "df1['Value'] = df1['Value'].apply(lambda x: np.log(x) if x > 0 else x)\n"
      ],
      "metadata": {
        "id": "Zx4nqMfOEmgR"
      },
      "execution_count": null,
      "outputs": []
    },
    {
      "cell_type": "code",
      "source": [
        "# check the data outliers and anomalies after the log transformation using Box Plots\n",
        "#The 'Value' Column represents number of heads of imported live cattle, actual value for each row is = Value * 1000\n",
        "\n",
        "import matplotlib.pyplot as plt\n",
        "import seaborn as sns\n",
        "\n",
        "# Box plot for a specific column\n",
        "plt.figure(figsize=(8, 6))\n",
        "sns.boxplot(x=df1['Value'])\n",
        "plt.title('Box Plot of Column')\n",
        "plt.show()"
      ],
      "metadata": {
        "id": "v0O8i5H8BrSR",
        "outputId": "2cf35d8a-5270-4211-eb85-91059b8e8487",
        "colab": {
          "base_uri": "https://localhost:8080/",
          "height": 564
        }
      },
      "execution_count": null,
      "outputs": [
        {
          "output_type": "display_data",
          "data": {
            "text/plain": [
              "<Figure size 800x600 with 1 Axes>"
            ],
            "image/png": "[encoded data removed]"
          },
          "metadata": {}
        }
      ]
    },
    {
      "cell_type": "code",
      "source": [],
      "metadata": {
        "id": "QrZuJlVHEtch"
      },
      "execution_count": null,
      "outputs": []
    }
  ]
}